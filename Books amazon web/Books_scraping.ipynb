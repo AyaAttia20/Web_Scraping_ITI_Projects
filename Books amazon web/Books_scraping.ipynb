{
 "cells": [
  {
   "cell_type": "markdown",
   "id": "003da872",
   "metadata": {},
   "source": [
    "# Scaping Bestseller Books on amazon website"
   ]
  },
  {
   "cell_type": "markdown",
   "id": "4e6ac8e0",
   "metadata": {},
   "source": [
    "### Import libraries and connect API"
   ]
  },
  {
   "cell_type": "code",
   "execution_count": 1,
   "id": "59919792",
   "metadata": {},
   "outputs": [],
   "source": [
    "from selenium import webdriver\n",
    "import pandas as pd\n",
    "import time\n",
    "from selenium.common.exceptions import NoSuchElementException"
   ]
  },
  {
   "cell_type": "code",
   "execution_count": 21,
   "id": "8784071e",
   "metadata": {},
   "outputs": [],
   "source": [
    "obj_web=webdriver.Chrome()"
   ]
  },
  {
   "cell_type": "code",
   "execution_count": 22,
   "id": "466be5f8",
   "metadata": {},
   "outputs": [],
   "source": [
    "obj_web.get('https://www.amazon.in/gp/bestsellers/books/')"
   ]
  },
  {
   "cell_type": "markdown",
   "id": "628b5015",
   "metadata": {},
   "source": [
    "### get each element on this page with all characteristics belonging to it "
   ]
  },
  {
   "cell_type": "code",
   "execution_count": 38,
   "id": "608ce584",
   "metadata": {},
   "outputs": [],
   "source": [
    "elements=obj_web.find_elements(\"xpath\",\"//div[@class='zg-grid-general-faceout']\")"
   ]
  },
  {
   "cell_type": "code",
   "execution_count": 39,
   "id": "385ca18d",
   "metadata": {},
   "outputs": [
    {
     "name": "stdout",
     "output_type": "stream",
     "text": [
      "Too Good to Be True : A smart, funny will-they-won’t-they romance\n",
      "Prajakta Koli\n",
      "Paperback\n",
      "₹285.00\n",
      "Dopamine Detox : A Short Guide to Remove Distractions and Get Your Brain to Do Hard Things\n",
      "Thibaut Meurisse\n",
      "12,295\n",
      "Paperback\n",
      "₹191.00\n",
      "The Psychology of Money\n",
      "Morgan Housel\n",
      "68,998\n",
      "Paperback\n",
      "₹305.00\n",
      "My First Library: Boxset of 10 Board Books for Kids\n",
      "Wonder House Books\n",
      "81,311\n",
      "Board book\n",
      "₹399.00\n",
      "Oswaal CBSE 25 Combined Sample Question papers Class 10 Books Science, Mathematics Standard, Social Science, English Language and Literature, Hindi-A (For 2025 Exam)\n",
      "Oswaal Editorial Board\n",
      "143\n",
      "Paperback\n",
      "₹423.00\n",
      "Atomic Habits\n",
      "James Clear\n",
      "100,016\n",
      "Paperback\n",
      "₹579.00\n",
      "White Nights\n",
      "Fyodor Dostoyevsky\n",
      "1,624\n",
      "Mass Market Paperback\n",
      "₹124.00\n",
      "Amma Diarylo Konni Pageelu\n",
      "Ravi Mantri\n",
      "1,333\n",
      "Paperback\n",
      "₹220.00\n",
      "Animals Tales From Panchtantra: Timeless Stories for Children From Ancient India\n",
      "Wonder House Books\n",
      "6,151\n",
      "Hardcover\n",
      "₹199.00\n",
      "Simple, Not Easy: A No-Nonsense Guide to Fitness, Nutrition and Weight Loss\n",
      "Raj Ganpath\n",
      "Paperback\n",
      "₹305.00\n",
      "Ikigai: Japanese secret to long and happy life\n",
      "Francesc Miralles\n",
      "56,969\n",
      "Hardcover\n",
      "₹380.00\n",
      "Don't Believe Everything You Think (English)\n",
      "Joseph Nguyen\n",
      "9,026\n",
      "Paperback\n",
      "₹185.00\n",
      "Educart CBSE Class 10 Most Likely Sets of Sample Papers - Science, Maths Standard, Social Science & English (with Answer Writing Sheets 2024-25)\n",
      "Prashant Kirad\n",
      "41\n",
      "Paperback\n",
      "₹499.00\n",
      "World’s Greatest Books For Personal Growth & Wealth (Set of 4 Books) : Perfect Motivational Gift Set\n",
      "Dale Carnegie\n",
      "26,428\n",
      "Paperback\n",
      "₹349.00\n",
      "The Mountain Is You: Transforming Self-Sabotage Into Self-Mastery (English)\n",
      "Brianna Wiest\n",
      "20,730\n",
      "Paperback\n",
      "₹261.00\n",
      "The Power of Your Subconscious Mind: Original Edition | Premium Paperback\n",
      "Joseph Murphy\n",
      "13,695\n",
      "Paperback\n",
      "₹149.00\n",
      "PW NTA NEET Rankers Test Series 2025 Verified & Curated by Expert Faculties | 10 Full Syllabus + 4 Part Syllabus (Class 11 & 12) | OMR Sheet, Solution Booklet with NCERT References\n",
      "Physics Wallah (PW)\n",
      "40\n",
      "Paperback\n",
      "₹598.00\n",
      "My First Book of Patterns Pencil Control: Patterns Practice book for kids (Pattern Writing)\n",
      "Wonder House Books\n",
      "29,200\n",
      "Paperback\n",
      "₹129.00\n",
      "Shrimad Bhagwat Geeta Yatharoop (Hindi)\n",
      "A.C. Bhaktivendanta Swami Prabhupada\n",
      "20,556\n",
      "Hardcover\n",
      "₹258.00\n",
      "Educart CBSE Class 10 Final Revision Book 2025 - Maths + Science + Social Science + English (2024-25)\n",
      "Prem Sharma\n",
      "37\n",
      "Paperback\n",
      "₹639.00\n",
      "Rich Dad Poor Dad: What the Rich Teach Their Kids About Money That the Poor and Middle Class Do Not!\n",
      "Robert T. Kiyosaki\n",
      "32,474\n",
      "Mass Market Paperback\n",
      "₹393.00\n",
      "The Power of Your Subconscious Mind: Original Classic Edition | Premium Paperback\n",
      "Joseph Murphy\n",
      "50,013\n",
      "Paperback\n",
      "₹149.00\n",
      "Static G.K By Ankit Bhati And Naveen Sir In Hindi Latest 2025\n",
      "Ankit Bhati Sir\n",
      "43\n",
      "Unknown Binding\n",
      "₹169.00\n",
      "The Art of Being Alone: Loneliness Was My Cage, Solitude Is My Home (English)\n",
      "Renuka Gavrani\n",
      "2,250\n",
      "Paperback\n",
      "₹200.00\n",
      "Oswaal CBSE Sample Question Papers Class 10 Science Book (For 2025 Exam)\n",
      "Oswaal Editorial Board\n",
      "99\n",
      "Paperback\n",
      "₹309.00\n",
      "1001 Ultimate Brain Booster Activities for 4+ Years Old Kids |Enhance the Child Mind with Cognitive Excellence with Interactive Activity Book\n",
      "Team Pegasus\n",
      "1,677\n",
      "Paperback\n",
      "₹310.00\n",
      "Moral Story Books for Kids (Illustrated) - English Short Stories with Colourful Pictures - Bedtime Children Story Book - 3 Years to 6 Years Old Children - Read Aloud to Infants, Toddlers (Set of 10 Books)\n",
      "Maple Press\n",
      "3,320\n",
      "Product Bundle\n",
      "₹228.00\n",
      "Story Books for Kids - Second Reader (Illustrated) (Set of 6 Books) - Phonic stories - Bedtime Stories - 3 Years to 6 Years Old - Read Aloud to Infants, Toddlers\n",
      "Maple Press\n",
      "435\n",
      "Paperback\n",
      "₹150.00\n",
      "The Vegetarian by Han Kang, Winner of the 2024 Nobel Prize in Literature\n",
      "Han Kang\n",
      "788\n",
      "Paperback\n",
      "₹336.00\n",
      "Indian Polity for UPSC (English) by M Laxmikanth | 7th Edition (Latest) | Civil Services Exam- Prelims and Mains 2025 | State PSCs civil services exams/PCS exams\n",
      "M Laxmikanth\n",
      "2,767\n",
      "Paperback\n",
      "₹759.00\n",
      "Bhagvad Gita As It Is English New Edition\n",
      "A. C. Bhaktivedanta Swami Prabhupad\n",
      "7,379\n",
      "Hardcover\n",
      "₹294.00\n",
      "Oswaal CBSE Sample Question Papers Class 10 Mathematics Standard Book (For 2025 Exam)\n",
      "Oswaal Editorial Board\n",
      "79\n",
      "Paperback\n",
      "₹333.00\n",
      "My First Mythology Tale (Illustrated) (Set of 5 Books) - Mahabharata, Krishna, Hanuman, Ganesha, Ramayana - Story Books for Kids - English Short Stories - Read Aloud to Infants, Toddlers\n",
      "Maple Press\n",
      "9,327\n",
      "Paperback\n",
      "₹179.00\n",
      "Norwegian Wood: Million copy bestseller by Japanese author Haruki Murakami\n",
      "Haruki Murakami\n",
      "19,811\n",
      "Paperback\n",
      "₹359.00\n",
      "Educart CBSE Sample Paper Class 10 2024-25 - Science, Mathematics (Standard), Social Science & English Combo Set of 4 Books (with exclusive CBSE Mock Booklets) for 2025 Exam\n",
      "Educart\n",
      "185\n",
      "Product Bundle\n",
      "₹1,443.00\n",
      "Writing Practice Boxset: Pack of 4 Books (Writing Fun: Write And Practice Capital Letters, Small Letters, Patterns and Numbers 1 to 10)\n",
      "Wonder House Books\n",
      "13,023\n",
      "Paperback\n",
      "₹199.00\n",
      "PW 20 SBI Clerk Prelims & Mains Previous Year Solved Papers (2023-2012) with 5 Online Mock Tests For 2024-25 Exam | Yearwise PYQs | Fully Solved | English Edition\n",
      "Physics Wallah\n",
      "22\n",
      "Paperback\n",
      "₹309.00\n",
      "The Alchemist\n",
      "Paulo Coelho\n",
      "45,509\n",
      "Paperback\n",
      "₹262.00\n",
      "Magic of the Lost Temple (Over 2 Lakh Copies sold)\n",
      "Sudha Murty\n",
      "10,537\n",
      "Paperback\n",
      "₹195.00\n",
      "The Palace of Illusions: 10th Anniversary Edition [Paperback] Banerjee Divakaruni, Chitra\n",
      "Chitra Banerjee Divakaruni\n",
      "10,742\n",
      "Paperback\n",
      "₹319.00\n",
      "Educart CBSE Science Class 10 Sample Papers 2024-25 (With exclusive CBSE Mock Booklets for 2025 Exam)\n",
      "Prashant Kirad\n",
      "128\n",
      "Paperback\n",
      "₹359.00\n",
      "The Art of Letting Go: Move Beyond the Hurt, Find Emotional Freedom and Restore Your Inner Peace\n",
      "Nick Trenton\n",
      "54\n",
      "Paperback\n",
      "₹159.00\n",
      "Coloring Books Box Set: Pack of 12 Copy Color Books For Children\n",
      "Wonder House Books\n",
      "5,424\n",
      "Paperback\n",
      "₹369.00\n",
      "Little Colouring Books for Kids (Set of 10 Books) - Gift to children for painting, drawing and coloring - Alphabets, Animals, Birds, Flags, Flowers, ... Transport, Vegetables - 3 to 6 years old\n",
      "Maple Press\n",
      "4,484\n",
      "Paperback\n",
      "₹195.00\n",
      "1'o Clock Revision book for Science, Maths and Social Science for Class 10th CBSE 2025 (Set of 2) | AI Images | Flowcharts | Tables | Diagrams | Maps and much more, Revise Instantly\n",
      "KRITI SHARMA\n",
      "91\n",
      "Paperback\n",
      "₹499.00\n",
      "The Satvic Revolution: 7 Life-Changing Habits to Discover Peak Health and Joy\n",
      "Subah Saraf\n",
      "1,090\n",
      "Paperback\n",
      "₹310.00\n",
      "BlackBook of English Vocabulary May 2024 by Nikhil Gupta\n",
      "Nikhil Gupta\n",
      "922\n",
      "Paperback\n",
      "₹329.00\n",
      "PW CBSE | Class 10 | 15 New Pattern Sample Question Papers Science For 2025 Board Exam with 50 Percent Competency Based Questions 100 Most Probable Questions\n",
      "PW (Physics Wallah)\n",
      "56\n",
      "Paperback\n",
      "₹209.00\n",
      "101 Pencil Control Activity Book For Kids: Tracing Practise Book Age 2+\n",
      "Wonder House Books\n",
      "1,191\n",
      "Paperback\n",
      "₹179.00\n",
      "Metamorphosis\n",
      "Franz Kafka\n",
      "12,440\n",
      "Paperback\n",
      "₹109.00\n"
     ]
    }
   ],
   "source": [
    "for i in elements:\n",
    "    print(i.text)"
   ]
  },
  {
   "cell_type": "markdown",
   "id": "8105689e",
   "metadata": {},
   "source": [
    "### create list for each  characteristics belonging to each element"
   ]
  },
  {
   "cell_type": "code",
   "execution_count": 153,
   "id": "8196d95c",
   "metadata": {},
   "outputs": [],
   "source": [
    "book_names=[]\n",
    "book_authors=[]\n",
    "rates=[]\n",
    "prices=[]\n",
    "book_images=[]\n"
   ]
  },
  {
   "cell_type": "code",
   "execution_count": 154,
   "id": "2efa2f87",
   "metadata": {},
   "outputs": [],
   "source": [
    "# time.sleep(5)\n",
    "for element in elements:\n",
    "    \n",
    "    try:\n",
    "        auther=element.find_element(\"xpath\", \".//div[@class='a-row a-size-small']//a[@class='a-size-small a-link-child']//DIV[@class='_cDEzb_p13n-sc-css-line-clamp-1_1Fn1y']\").text\n",
    "        book_authors.append(auther)\n",
    "    except NoSuchElementException:\n",
    "        auther = \"no auther\"\n",
    "        \n",
    "    try:\n",
    "        name=element.find_element(\"xpath\", \".//a[@class='a-link-normal aok-block']//span//DIV[@class='_cDEzb_p13n-sc-css-line-clamp-1_1Fn1y']\").text\n",
    "        book_names.append(name)\n",
    "    except NoSuchElementException:\n",
    "        name = \"no name\"\n",
    "\n",
    "    try:\n",
    "        price=element.find_element(\"xpath\", \".//span[@class='_cDEzb_p13n-sc-price_3mJ9Z']\").text\n",
    "        prices.append(price)\n",
    "    except NoSuchElementException:\n",
    "        price = \"no price\"\n",
    "    \n",
    "    try:\n",
    "        rate = element.find_element(\"xpath\", \".//span[@aria-hidden='true']\").text\n",
    "        rates.append(rate)\n",
    "    except NoSuchElementException:\n",
    "        rate = \"no rate\""
   ]
  },
  {
   "cell_type": "code",
   "execution_count": 155,
   "id": "66f05ba1",
   "metadata": {},
   "outputs": [
    {
     "name": "stdout",
     "output_type": "stream",
     "text": [
      "Books names:  ['Dopamine Detox : A Short Guide to Remove Distractions and Get Your Brain to Do Hard Things', 'The Psychology of Money', 'My First Library: Boxset of 10 Board Books for Kids', 'Oswaal CBSE 25 Combined Sample Question papers Class 10 Books Science, Mathematics Standard, Social Science, English Language and Literature, Hindi-A (For 2025 Exam)', 'Atomic Habits', 'White Nights', 'Amma Diarylo Konni Pageelu', 'Animals Tales From Panchtantra: Timeless Stories for Children From Ancient India', 'Ikigai: Japanese secret to long and happy life', \"Don't Believe Everything You Think (English)\"]\n",
      "---------------------------------------------------------\n",
      "Book authors:  ['Prajakta Koli', 'Thibaut Meurisse', 'Morgan Housel', 'Wonder House Books', 'Oswaal Editorial Board', 'James Clear', 'Ravi Mantri', 'Wonder House Books', 'Francesc Miralles', 'Joseph Nguyen']\n",
      "---------------------------------------------------------\n",
      "Books prices:  ['₹285.00', '₹191.00', '₹305.00', '₹399.00', '₹423.00', '₹579.00', '₹124.00', '₹220.00', '₹199.00', '₹305.00']\n",
      "---------------------------------------------------------\n",
      "Books rates:  ['12,295', '68,998', '81,311', '143', '100,016', '1,624', '1,333', '6,151', '56,969', '9,026']\n"
     ]
    }
   ],
   "source": [
    "# show the first ten elements\n",
    "print(\"Books names: \",book_names[:10])\n",
    "print(\"---------------------------------------------------------\")\n",
    "print(\"Book authors: \",book_authors[:10])\n",
    "print(\"---------------------------------------------------------\")\n",
    "print(\"Books prices: \",prices[:10])\n",
    "print(\"---------------------------------------------------------\")\n",
    "print(\"Books rates: \",rates[:10])\n"
   ]
  },
  {
   "cell_type": "code",
   "execution_count": 156,
   "id": "d5d0b436",
   "metadata": {},
   "outputs": [
    {
     "name": "stdout",
     "output_type": "stream",
     "text": [
      "43\n",
      "48\n",
      "50\n",
      "48\n"
     ]
    }
   ],
   "source": [
    "# print length of each one \n",
    "print(len(book_authors))\n",
    "print(len(book_names))\n",
    "print(len(prices))\n",
    "print(len(rates))"
   ]
  },
  {
   "cell_type": "markdown",
   "id": "2acbd562",
   "metadata": {},
   "source": [
    "### Insight:\n",
    "There are some element not completed in some list like book_authors rest 7 elements ,book_names rest 2 elements,rates 2 elements."
   ]
  },
  {
   "cell_type": "markdown",
   "id": "31e0a128",
   "metadata": {},
   "source": [
    "### Get the rest element in books' authors "
   ]
  },
  {
   "cell_type": "code",
   "execution_count": 157,
   "id": "2a927440",
   "metadata": {},
   "outputs": [
    {
     "name": "stdout",
     "output_type": "stream",
     "text": [
      "Fyodor Dostoyevsky\n",
      "Raj Ganpath\n",
      "Han Kang\n",
      "Physics Wallah\n",
      "Sudha Murty\n",
      "Prashant Kirad\n",
      "PW (Physics Wallah)\n"
     ]
    }
   ],
   "source": [
    "# 7, 10, 29,37,39,41,48   not exist in list ,so get it seperatly\n",
    "books_authers=obj_web.find_elements(\"xpath\",\"//span[@class='a-size-small a-color-base']//DIV[@class='_cDEzb_p13n-sc-css-line-clamp-1_1Fn1y']\")\n",
    "for i in books_authers:\n",
    "    print(i.text)\n"
   ]
  },
  {
   "cell_type": "markdown",
   "id": "a446582d",
   "metadata": {},
   "source": [
    "### insert the rest  book' authors "
   ]
  },
  {
   "cell_type": "code",
   "execution_count": 158,
   "id": "0a316551",
   "metadata": {},
   "outputs": [],
   "source": [
    "book_authors.insert(6,'Fyodor Dostoyevsky')\n",
    "book_authors.insert(9,'Raj Ganpath')\n",
    "book_authors.insert(28,'Han Kang')\n",
    "book_authors.insert(36,'Physics Wallah')\n",
    "book_authors.insert(38,'Sudha Murty')\n",
    "book_authors.insert(40,'Prashant Kirad')\n",
    "book_authors.insert(47,'PW (Physics Wallah)')\n"
   ]
  },
  {
   "cell_type": "code",
   "execution_count": 159,
   "id": "6cb9e94d",
   "metadata": {},
   "outputs": [
    {
     "name": "stdout",
     "output_type": "stream",
     "text": [
      "['Prajakta Koli', 'Thibaut Meurisse', 'Morgan Housel', 'Wonder House Books', 'Oswaal Editorial Board', 'James Clear', 'Fyodor Dostoyevsky', 'Ravi Mantri', 'Wonder House Books', 'Raj Ganpath', 'Francesc Miralles', 'Joseph Nguyen', 'Prashant Kirad', 'Dale Carnegie', 'Brianna Wiest', 'Joseph Murphy', 'Physics Wallah (PW)', 'Wonder House Books', 'A.C. Bhaktivendanta Swami Prabhupada', 'Prem Sharma', 'Robert T. Kiyosaki', 'Joseph Murphy', 'Ankit Bhati Sir', 'Renuka Gavrani', 'Oswaal Editorial Board', 'Team Pegasus', 'Maple Press', 'Maple Press', 'Han Kang', 'M Laxmikanth', 'A. C. Bhaktivedanta Swami Prabhupad', 'Oswaal Editorial Board', 'Maple Press', 'Haruki Murakami', 'Educart', 'Wonder House Books', 'Physics Wallah', 'Paulo Coelho', 'Sudha Murty', 'Chitra Banerjee Divakaruni', 'Prashant Kirad', 'Nick Trenton', 'Wonder House Books', 'Maple Press', 'KRITI SHARMA', 'Subah Saraf', 'Nikhil Gupta', 'PW (Physics Wallah)', 'Wonder House Books', 'Franz Kafka']\n"
     ]
    }
   ],
   "source": [
    "print(book_authors)"
   ]
  },
  {
   "cell_type": "markdown",
   "id": "194609b0",
   "metadata": {},
   "source": [
    "##### check length book_authors"
   ]
  },
  {
   "cell_type": "code",
   "execution_count": 160,
   "id": "f8815869",
   "metadata": {},
   "outputs": [
    {
     "name": "stdout",
     "output_type": "stream",
     "text": [
      "50\n"
     ]
    }
   ],
   "source": [
    "print(len(book_authors))"
   ]
  },
  {
   "cell_type": "markdown",
   "id": "d5467fc5",
   "metadata": {},
   "source": [
    "### Get the rest element in books' names"
   ]
  },
  {
   "cell_type": "code",
   "execution_count": 161,
   "id": "0607d1b2",
   "metadata": {},
   "outputs": [
    {
     "name": "stdout",
     "output_type": "stream",
     "text": [
      "Too Good to Be True : A smart, funny will-they-won’t-they romance\n",
      "Simple, Not Easy: A No-Nonsense Guide to Fitness, Nutrition and Weight Loss\n"
     ]
    }
   ],
   "source": [
    "# name of books with differnt class element 1,10\n",
    "books_names_rest=obj_web.find_elements(\"xpath\",\"//a[@class='a-link-normal aok-block']//span//DIV[@class='_cDEzb_p13n-sc-css-line-clamp-2_EWgCb']\")\n",
    "for i in books_names_rest:\n",
    "    print(i.text)\n",
    "\n"
   ]
  },
  {
   "cell_type": "markdown",
   "id": "3238568c",
   "metadata": {},
   "source": [
    "### Insert the rest element in books' authors"
   ]
  },
  {
   "cell_type": "code",
   "execution_count": 162,
   "id": "d09cff8f",
   "metadata": {},
   "outputs": [],
   "source": [
    "book_names.insert(0,'Too Good to Be True : A smart, funny will-they-won’t-they romance')    \n",
    "book_names.insert(9,'Simple, Not Easy: A No-Nonsense Guide to Fitness, Nutrition and Weight Loss')\n"
   ]
  },
  {
   "cell_type": "code",
   "execution_count": 165,
   "id": "03103546",
   "metadata": {},
   "outputs": [
    {
     "name": "stdout",
     "output_type": "stream",
     "text": [
      "['Too Good to Be True : A smart, funny will-they-won’t-they romance', 'Dopamine Detox : A Short Guide to Remove Distractions and Get Your Brain to Do Hard Things', 'The Psychology of Money', 'My First Library: Boxset of 10 Board Books for Kids', 'Oswaal CBSE 25 Combined Sample Question papers Class 10 Books Science, Mathematics Standard, Social Science, English Language and Literature, Hindi-A (For 2025 Exam)', 'Atomic Habits', 'White Nights', 'Amma Diarylo Konni Pageelu', 'Animals Tales From Panchtantra: Timeless Stories for Children From Ancient India', 'Simple, Not Easy: A No-Nonsense Guide to Fitness, Nutrition and Weight Loss']\n"
     ]
    }
   ],
   "source": [
    "print(book_names[:10])"
   ]
  },
  {
   "cell_type": "markdown",
   "id": "a81c1c1b",
   "metadata": {},
   "source": [
    "### Check length of book_names"
   ]
  },
  {
   "cell_type": "code",
   "execution_count": 166,
   "id": "aa17263c",
   "metadata": {},
   "outputs": [
    {
     "data": {
      "text/plain": [
       "50"
      ]
     },
     "execution_count": 166,
     "metadata": {},
     "output_type": "execute_result"
    }
   ],
   "source": [
    "len(book_names)"
   ]
  },
  {
   "cell_type": "markdown",
   "id": "c5180bde",
   "metadata": {},
   "source": [
    "### Get the rest element in books' rates ,the element don't have rate 1,10"
   ]
  },
  {
   "cell_type": "markdown",
   "id": "4478947f",
   "metadata": {},
   "source": [
    "### Insert the rest element in books' rates"
   ]
  },
  {
   "cell_type": "code",
   "execution_count": 167,
   "id": "ab7216fe",
   "metadata": {},
   "outputs": [],
   "source": [
    "rates.insert(0,'no rate')\n",
    "rates.insert(9,'no rate')"
   ]
  },
  {
   "cell_type": "code",
   "execution_count": 168,
   "id": "08e04023",
   "metadata": {},
   "outputs": [
    {
     "name": "stdout",
     "output_type": "stream",
     "text": [
      "['no rate', '12,295', '68,998', '81,311', '143', '100,016', '1,624', '1,333', '6,151', 'no rate', '56,969', '9,026', '41', '26,428', '20,730', '13,695', '40', '29,200', '20,556', '37', '32,474', '50,013', '43', '2,250', '99', '1,677', '3,320', '435', '788', '2,767', '7,379', '79', '9,327', '19,811', '185', '13,023', '22', '45,509', '10,537', '10,742', '128', '54', '5,424', '4,484', '91', '1,090', '922', '56', '1,191', '12,440']\n"
     ]
    }
   ],
   "source": [
    "print(rates)"
   ]
  },
  {
   "cell_type": "markdown",
   "id": "5f0f9a41",
   "metadata": {},
   "source": [
    "#### check Length of rates"
   ]
  },
  {
   "cell_type": "code",
   "execution_count": 169,
   "id": "69ad8e8a",
   "metadata": {},
   "outputs": [
    {
     "data": {
      "text/plain": [
       "50"
      ]
     },
     "execution_count": 169,
     "metadata": {},
     "output_type": "execute_result"
    }
   ],
   "source": [
    "len(rates)"
   ]
  },
  {
   "cell_type": "markdown",
   "id": "9b2d2de7",
   "metadata": {},
   "source": [
    "### Make DateFrame from lists "
   ]
  },
  {
   "cell_type": "code",
   "execution_count": 170,
   "id": "fbe73798",
   "metadata": {},
   "outputs": [
    {
     "data": {
      "text/html": [
       "<div>\n",
       "<style scoped>\n",
       "    .dataframe tbody tr th:only-of-type {\n",
       "        vertical-align: middle;\n",
       "    }\n",
       "\n",
       "    .dataframe tbody tr th {\n",
       "        vertical-align: top;\n",
       "    }\n",
       "\n",
       "    .dataframe thead th {\n",
       "        text-align: right;\n",
       "    }\n",
       "</style>\n",
       "<table border=\"1\" class=\"dataframe\">\n",
       "  <thead>\n",
       "    <tr style=\"text-align: right;\">\n",
       "      <th></th>\n",
       "      <th>Name</th>\n",
       "      <th>author</th>\n",
       "      <th>price</th>\n",
       "      <th>rate</th>\n",
       "    </tr>\n",
       "  </thead>\n",
       "  <tbody>\n",
       "    <tr>\n",
       "      <th>0</th>\n",
       "      <td>Too Good to Be True : A smart, funny will-they...</td>\n",
       "      <td>Prajakta Koli</td>\n",
       "      <td>₹285.00</td>\n",
       "      <td>no rate</td>\n",
       "    </tr>\n",
       "    <tr>\n",
       "      <th>1</th>\n",
       "      <td>Dopamine Detox : A Short Guide to Remove Distr...</td>\n",
       "      <td>Thibaut Meurisse</td>\n",
       "      <td>₹191.00</td>\n",
       "      <td>12,295</td>\n",
       "    </tr>\n",
       "    <tr>\n",
       "      <th>2</th>\n",
       "      <td>The Psychology of Money</td>\n",
       "      <td>Morgan Housel</td>\n",
       "      <td>₹305.00</td>\n",
       "      <td>68,998</td>\n",
       "    </tr>\n",
       "    <tr>\n",
       "      <th>3</th>\n",
       "      <td>My First Library: Boxset of 10 Board Books for...</td>\n",
       "      <td>Wonder House Books</td>\n",
       "      <td>₹399.00</td>\n",
       "      <td>81,311</td>\n",
       "    </tr>\n",
       "    <tr>\n",
       "      <th>4</th>\n",
       "      <td>Oswaal CBSE 25 Combined Sample Question papers...</td>\n",
       "      <td>Oswaal Editorial Board</td>\n",
       "      <td>₹423.00</td>\n",
       "      <td>143</td>\n",
       "    </tr>\n",
       "    <tr>\n",
       "      <th>5</th>\n",
       "      <td>Atomic Habits</td>\n",
       "      <td>James Clear</td>\n",
       "      <td>₹579.00</td>\n",
       "      <td>100,016</td>\n",
       "    </tr>\n",
       "    <tr>\n",
       "      <th>6</th>\n",
       "      <td>White Nights</td>\n",
       "      <td>Fyodor Dostoyevsky</td>\n",
       "      <td>₹124.00</td>\n",
       "      <td>1,624</td>\n",
       "    </tr>\n",
       "    <tr>\n",
       "      <th>7</th>\n",
       "      <td>Amma Diarylo Konni Pageelu</td>\n",
       "      <td>Ravi Mantri</td>\n",
       "      <td>₹220.00</td>\n",
       "      <td>1,333</td>\n",
       "    </tr>\n",
       "    <tr>\n",
       "      <th>8</th>\n",
       "      <td>Animals Tales From Panchtantra: Timeless Stori...</td>\n",
       "      <td>Wonder House Books</td>\n",
       "      <td>₹199.00</td>\n",
       "      <td>6,151</td>\n",
       "    </tr>\n",
       "    <tr>\n",
       "      <th>9</th>\n",
       "      <td>Simple, Not Easy: A No-Nonsense Guide to Fitne...</td>\n",
       "      <td>Raj Ganpath</td>\n",
       "      <td>₹305.00</td>\n",
       "      <td>no rate</td>\n",
       "    </tr>\n",
       "  </tbody>\n",
       "</table>\n",
       "</div>"
      ],
      "text/plain": [
       "                                                Name                  author  \\\n",
       "0  Too Good to Be True : A smart, funny will-they...           Prajakta Koli   \n",
       "1  Dopamine Detox : A Short Guide to Remove Distr...        Thibaut Meurisse   \n",
       "2                            The Psychology of Money           Morgan Housel   \n",
       "3  My First Library: Boxset of 10 Board Books for...      Wonder House Books   \n",
       "4  Oswaal CBSE 25 Combined Sample Question papers...  Oswaal Editorial Board   \n",
       "5                                      Atomic Habits             James Clear   \n",
       "6                                       White Nights      Fyodor Dostoyevsky   \n",
       "7                         Amma Diarylo Konni Pageelu             Ravi Mantri   \n",
       "8  Animals Tales From Panchtantra: Timeless Stori...      Wonder House Books   \n",
       "9  Simple, Not Easy: A No-Nonsense Guide to Fitne...             Raj Ganpath   \n",
       "\n",
       "     price     rate  \n",
       "0  ₹285.00  no rate  \n",
       "1  ₹191.00   12,295  \n",
       "2  ₹305.00   68,998  \n",
       "3  ₹399.00   81,311  \n",
       "4  ₹423.00      143  \n",
       "5  ₹579.00  100,016  \n",
       "6  ₹124.00    1,624  \n",
       "7  ₹220.00    1,333  \n",
       "8  ₹199.00    6,151  \n",
       "9  ₹305.00  no rate  "
      ]
     },
     "execution_count": 170,
     "metadata": {},
     "output_type": "execute_result"
    }
   ],
   "source": [
    "df_books = pd.DataFrame(zip(book_names,book_authors,prices,rates), columns=['Name','author','price','rate'])\n",
    "df_books.head(10)"
   ]
  },
  {
   "cell_type": "markdown",
   "id": "fd2aeccd",
   "metadata": {},
   "source": [
    "### Get image for each element"
   ]
  },
  {
   "cell_type": "code",
   "execution_count": 171,
   "id": "96246d41",
   "metadata": {},
   "outputs": [],
   "source": [
    "images=obj_web.find_elements(\"xpath\",\"//div[@class='a-section a-spacing-mini _cDEzb_noop_3Xbw5']//img\")"
   ]
  },
  {
   "cell_type": "code",
   "execution_count": 172,
   "id": "07047d71",
   "metadata": {},
   "outputs": [
    {
     "name": "stdout",
     "output_type": "stream",
     "text": [
      "https://images-eu.ssl-images-amazon.com/images/I/81pGO40uexL._AC_UL900_SR900,600_.jpg\n",
      "https://images-eu.ssl-images-amazon.com/images/I/712K3sdLlRL._AC_UL900_SR900,600_.jpg\n",
      "https://images-eu.ssl-images-amazon.com/images/I/81Dky+tD+pL._AC_UL900_SR900,600_.jpg\n",
      "https://images-eu.ssl-images-amazon.com/images/I/711c-uf6AFL._AC_UL900_SR900,600_.jpg\n",
      "https://images-eu.ssl-images-amazon.com/images/I/813SflvsqCL._AC_UL900_SR900,600_.jpg\n",
      "https://images-eu.ssl-images-amazon.com/images/I/81F90H7hnML._AC_UL900_SR900,600_.jpg\n",
      "https://images-eu.ssl-images-amazon.com/images/I/51lMJWnnRDL._AC_UL900_SR900,600_.jpg\n",
      "https://images-eu.ssl-images-amazon.com/images/I/81rjyBm+UYL._AC_UL900_SR900,600_.jpg\n",
      "https://images-eu.ssl-images-amazon.com/images/I/81WCSu2RoJS._AC_UL900_SR900,600_.jpg\n",
      "https://images-eu.ssl-images-amazon.com/images/I/81RdXBjNrjL._AC_UL900_SR900,600_.jpg\n",
      "https://images-eu.ssl-images-amazon.com/images/I/81l3rZK4lnL._AC_UL900_SR900,600_.jpg\n",
      "https://images-eu.ssl-images-amazon.com/images/I/715qi-cIbML._AC_UL900_SR900,600_.jpg\n",
      "https://images-eu.ssl-images-amazon.com/images/I/81NkV0f0HuL._AC_UL900_SR900,600_.jpg\n",
      "https://images-eu.ssl-images-amazon.com/images/I/71TqdH9wTmL._AC_UL900_SR900,600_.jpg\n",
      "https://images-eu.ssl-images-amazon.com/images/I/61xivWmExiL._AC_UL900_SR900,600_.jpg\n",
      "https://images-eu.ssl-images-amazon.com/images/I/71sBtM3Yi5L._AC_UL900_SR900,600_.jpg\n",
      "https://images-eu.ssl-images-amazon.com/images/I/71Q-aej+R2L._AC_UL900_SR900,600_.jpg\n",
      "https://images-eu.ssl-images-amazon.com/images/I/71Ytm8A3piL._AC_UL900_SR900,600_.jpg\n",
      "https://images-eu.ssl-images-amazon.com/images/I/91msEbTletL._AC_UL900_SR900,600_.jpg\n",
      "https://images-eu.ssl-images-amazon.com/images/I/81HxcZT-K+L._AC_UL900_SR900,600_.jpg\n",
      "https://images-eu.ssl-images-amazon.com/images/I/81BE7eeKzAL._AC_UL900_SR900,600_.jpg\n",
      "https://images-eu.ssl-images-amazon.com/images/I/61WMgOHyDaL._AC_UL900_SR900,600_.jpg\n",
      "https://images-eu.ssl-images-amazon.com/images/I/71GrKMm+bgL._AC_UL900_SR900,600_.jpg\n",
      "https://images-eu.ssl-images-amazon.com/images/I/61Ktyy7KymL._AC_UL900_SR900,600_.jpg\n",
      "https://images-eu.ssl-images-amazon.com/images/I/81fbUdMYT0L._AC_UL900_SR900,600_.jpg\n",
      "https://images-eu.ssl-images-amazon.com/images/I/81zZVEy-UPL._AC_UL900_SR900,600_.jpg\n",
      "https://images-eu.ssl-images-amazon.com/images/I/710GgrTea1L._AC_UL900_SR900,600_.jpg\n",
      "https://images-eu.ssl-images-amazon.com/images/I/91pRN-NJ6HL._AC_UL900_SR900,600_.jpg\n",
      "https://images-eu.ssl-images-amazon.com/images/I/71YBG7M5WCL._AC_UL900_SR900,600_.jpg\n",
      "https://images-eu.ssl-images-amazon.com/images/I/71CrTyKsazL._AC_UL900_SR900,600_.jpg\n",
      "https://images-eu.ssl-images-amazon.com/images/I/71jWK5-fBML._AC_UL900_SR900,600_.jpg\n",
      "https://images-eu.ssl-images-amazon.com/images/I/81g9ux2x8rL._AC_UL900_SR900,600_.jpg\n",
      "https://images-eu.ssl-images-amazon.com/images/I/71xWWxjzF7L._AC_UL900_SR900,600_.jpg\n",
      "https://images-eu.ssl-images-amazon.com/images/I/81zqVhvbHbL._AC_UL900_SR900,600_.jpg\n",
      "https://images-eu.ssl-images-amazon.com/images/I/81x25UifKPL._AC_UL900_SR900,600_.jpg\n",
      "https://images-eu.ssl-images-amazon.com/images/I/71QPXmpjWlL._AC_UL900_SR900,600_.jpg\n",
      "https://images-eu.ssl-images-amazon.com/images/I/61u1MyOVCtL._AC_UL900_SR900,600_.jpg\n",
      "https://images-eu.ssl-images-amazon.com/images/I/61HAE8zahLL._AC_UL900_SR900,600_.jpg\n",
      "https://images-eu.ssl-images-amazon.com/images/I/81Y4Pte2a-L._AC_UL900_SR900,600_.jpg\n",
      "https://images-eu.ssl-images-amazon.com/images/I/A1dtQ-soQEL._AC_UL900_SR900,600_.jpg\n",
      "https://images-eu.ssl-images-amazon.com/images/I/81WrkElcMXL._AC_UL900_SR900,600_.jpg\n",
      "https://images-eu.ssl-images-amazon.com/images/I/71pEaSYkhsL._AC_UL900_SR900,600_.jpg\n",
      "https://images-eu.ssl-images-amazon.com/images/I/81ZiMSpnmDL._AC_UL900_SR900,600_.jpg\n",
      "https://images-eu.ssl-images-amazon.com/images/I/91Q7RLpqdKL._AC_UL900_SR900,600_.jpg\n",
      "https://images-eu.ssl-images-amazon.com/images/I/81HJHwahJ8L._AC_UL900_SR900,600_.jpg\n",
      "https://images-eu.ssl-images-amazon.com/images/I/61AWbc63g3L._AC_UL900_SR900,600_.jpg\n",
      "https://images-eu.ssl-images-amazon.com/images/I/71qOkEKthWL._AC_UL900_SR900,600_.jpg\n",
      "https://images-eu.ssl-images-amazon.com/images/I/61iB4bCRNwL._AC_UL900_SR900,600_.jpg\n",
      "https://images-eu.ssl-images-amazon.com/images/I/71WFiJ37+VL._AC_UL900_SR900,600_.jpg\n",
      "https://images-eu.ssl-images-amazon.com/images/I/71qR+kG+43L._AC_UL900_SR900,600_.jpg\n"
     ]
    }
   ],
   "source": [
    "for i in images:\n",
    "    print(i.get_attribute(\"src\"))\n",
    "    "
   ]
  },
  {
   "cell_type": "markdown",
   "id": "63106247",
   "metadata": {},
   "source": [
    "#### check length of images"
   ]
  },
  {
   "cell_type": "code",
   "execution_count": 173,
   "id": "7d13a0b7",
   "metadata": {},
   "outputs": [
    {
     "data": {
      "text/plain": [
       "50"
      ]
     },
     "execution_count": 173,
     "metadata": {},
     "output_type": "execute_result"
    }
   ],
   "source": [
    "len(images)"
   ]
  },
  {
   "cell_type": "markdown",
   "id": "9320fbae",
   "metadata": {},
   "source": [
    "### append images source in books_images list "
   ]
  },
  {
   "cell_type": "code",
   "execution_count": 174,
   "id": "de21a72c",
   "metadata": {},
   "outputs": [],
   "source": [
    "for i in images:\n",
    "    book_images.append(i.get_attribute(\"src\"))\n"
   ]
  },
  {
   "cell_type": "markdown",
   "id": "05bc9c9a",
   "metadata": {},
   "source": [
    "### create coulmn for image in our  DataFrame "
   ]
  },
  {
   "cell_type": "code",
   "execution_count": 176,
   "id": "4650ae21",
   "metadata": {},
   "outputs": [
    {
     "data": {
      "text/html": [
       "<div>\n",
       "<style scoped>\n",
       "    .dataframe tbody tr th:only-of-type {\n",
       "        vertical-align: middle;\n",
       "    }\n",
       "\n",
       "    .dataframe tbody tr th {\n",
       "        vertical-align: top;\n",
       "    }\n",
       "\n",
       "    .dataframe thead th {\n",
       "        text-align: right;\n",
       "    }\n",
       "</style>\n",
       "<table border=\"1\" class=\"dataframe\">\n",
       "  <thead>\n",
       "    <tr style=\"text-align: right;\">\n",
       "      <th></th>\n",
       "      <th>Name</th>\n",
       "      <th>author</th>\n",
       "      <th>price</th>\n",
       "      <th>rate</th>\n",
       "      <th>image</th>\n",
       "    </tr>\n",
       "  </thead>\n",
       "  <tbody>\n",
       "    <tr>\n",
       "      <th>0</th>\n",
       "      <td>Too Good to Be True : A smart, funny will-they...</td>\n",
       "      <td>Prajakta Koli</td>\n",
       "      <td>₹285.00</td>\n",
       "      <td>no rate</td>\n",
       "      <td>https://images-eu.ssl-images-amazon.com/images...</td>\n",
       "    </tr>\n",
       "    <tr>\n",
       "      <th>1</th>\n",
       "      <td>Dopamine Detox : A Short Guide to Remove Distr...</td>\n",
       "      <td>Thibaut Meurisse</td>\n",
       "      <td>₹191.00</td>\n",
       "      <td>12,295</td>\n",
       "      <td>https://images-eu.ssl-images-amazon.com/images...</td>\n",
       "    </tr>\n",
       "    <tr>\n",
       "      <th>2</th>\n",
       "      <td>The Psychology of Money</td>\n",
       "      <td>Morgan Housel</td>\n",
       "      <td>₹305.00</td>\n",
       "      <td>68,998</td>\n",
       "      <td>https://images-eu.ssl-images-amazon.com/images...</td>\n",
       "    </tr>\n",
       "    <tr>\n",
       "      <th>3</th>\n",
       "      <td>My First Library: Boxset of 10 Board Books for...</td>\n",
       "      <td>Wonder House Books</td>\n",
       "      <td>₹399.00</td>\n",
       "      <td>81,311</td>\n",
       "      <td>https://images-eu.ssl-images-amazon.com/images...</td>\n",
       "    </tr>\n",
       "    <tr>\n",
       "      <th>4</th>\n",
       "      <td>Oswaal CBSE 25 Combined Sample Question papers...</td>\n",
       "      <td>Oswaal Editorial Board</td>\n",
       "      <td>₹423.00</td>\n",
       "      <td>143</td>\n",
       "      <td>https://images-eu.ssl-images-amazon.com/images...</td>\n",
       "    </tr>\n",
       "    <tr>\n",
       "      <th>5</th>\n",
       "      <td>Atomic Habits</td>\n",
       "      <td>James Clear</td>\n",
       "      <td>₹579.00</td>\n",
       "      <td>100,016</td>\n",
       "      <td>https://images-eu.ssl-images-amazon.com/images...</td>\n",
       "    </tr>\n",
       "    <tr>\n",
       "      <th>6</th>\n",
       "      <td>White Nights</td>\n",
       "      <td>Fyodor Dostoyevsky</td>\n",
       "      <td>₹124.00</td>\n",
       "      <td>1,624</td>\n",
       "      <td>https://images-eu.ssl-images-amazon.com/images...</td>\n",
       "    </tr>\n",
       "    <tr>\n",
       "      <th>7</th>\n",
       "      <td>Amma Diarylo Konni Pageelu</td>\n",
       "      <td>Ravi Mantri</td>\n",
       "      <td>₹220.00</td>\n",
       "      <td>1,333</td>\n",
       "      <td>https://images-eu.ssl-images-amazon.com/images...</td>\n",
       "    </tr>\n",
       "    <tr>\n",
       "      <th>8</th>\n",
       "      <td>Animals Tales From Panchtantra: Timeless Stori...</td>\n",
       "      <td>Wonder House Books</td>\n",
       "      <td>₹199.00</td>\n",
       "      <td>6,151</td>\n",
       "      <td>https://images-eu.ssl-images-amazon.com/images...</td>\n",
       "    </tr>\n",
       "    <tr>\n",
       "      <th>9</th>\n",
       "      <td>Simple, Not Easy: A No-Nonsense Guide to Fitne...</td>\n",
       "      <td>Raj Ganpath</td>\n",
       "      <td>₹305.00</td>\n",
       "      <td>no rate</td>\n",
       "      <td>https://images-eu.ssl-images-amazon.com/images...</td>\n",
       "    </tr>\n",
       "  </tbody>\n",
       "</table>\n",
       "</div>"
      ],
      "text/plain": [
       "                                                Name                  author  \\\n",
       "0  Too Good to Be True : A smart, funny will-they...           Prajakta Koli   \n",
       "1  Dopamine Detox : A Short Guide to Remove Distr...        Thibaut Meurisse   \n",
       "2                            The Psychology of Money           Morgan Housel   \n",
       "3  My First Library: Boxset of 10 Board Books for...      Wonder House Books   \n",
       "4  Oswaal CBSE 25 Combined Sample Question papers...  Oswaal Editorial Board   \n",
       "5                                      Atomic Habits             James Clear   \n",
       "6                                       White Nights      Fyodor Dostoyevsky   \n",
       "7                         Amma Diarylo Konni Pageelu             Ravi Mantri   \n",
       "8  Animals Tales From Panchtantra: Timeless Stori...      Wonder House Books   \n",
       "9  Simple, Not Easy: A No-Nonsense Guide to Fitne...             Raj Ganpath   \n",
       "\n",
       "     price     rate                                              image  \n",
       "0  ₹285.00  no rate  https://images-eu.ssl-images-amazon.com/images...  \n",
       "1  ₹191.00   12,295  https://images-eu.ssl-images-amazon.com/images...  \n",
       "2  ₹305.00   68,998  https://images-eu.ssl-images-amazon.com/images...  \n",
       "3  ₹399.00   81,311  https://images-eu.ssl-images-amazon.com/images...  \n",
       "4  ₹423.00      143  https://images-eu.ssl-images-amazon.com/images...  \n",
       "5  ₹579.00  100,016  https://images-eu.ssl-images-amazon.com/images...  \n",
       "6  ₹124.00    1,624  https://images-eu.ssl-images-amazon.com/images...  \n",
       "7  ₹220.00    1,333  https://images-eu.ssl-images-amazon.com/images...  \n",
       "8  ₹199.00    6,151  https://images-eu.ssl-images-amazon.com/images...  \n",
       "9  ₹305.00  no rate  https://images-eu.ssl-images-amazon.com/images...  "
      ]
     },
     "execution_count": 176,
     "metadata": {},
     "output_type": "execute_result"
    }
   ],
   "source": [
    "df_books['image']=book_images\n",
    "df_books.head(10)"
   ]
  },
  {
   "cell_type": "markdown",
   "id": "5138c401",
   "metadata": {},
   "source": [
    "### Save Data in CSV file"
   ]
  },
  {
   "cell_type": "code",
   "execution_count": 178,
   "id": "a69b2d41",
   "metadata": {},
   "outputs": [],
   "source": [
    "df_books.to_csv(\"Books_amazon.csv\")"
   ]
  }
 ],
 "metadata": {
  "kernelspec": {
   "display_name": "Python 3 (ipykernel)",
   "language": "python",
   "name": "python3"
  },
  "language_info": {
   "codemirror_mode": {
    "name": "ipython",
    "version": 3
   },
   "file_extension": ".py",
   "mimetype": "text/x-python",
   "name": "python",
   "nbconvert_exporter": "python",
   "pygments_lexer": "ipython3",
   "version": "3.11.3"
  }
 },
 "nbformat": 4,
 "nbformat_minor": 5
}
