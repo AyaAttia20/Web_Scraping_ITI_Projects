{
 "cells": [
  {
   "cell_type": "markdown",
   "id": "003da872",
   "metadata": {},
   "source": [
    "# Scaping Bestseller Books on amazon website"
   ]
  },
  {
   "cell_type": "markdown",
   "id": "4e6ac8e0",
   "metadata": {},
   "source": [
    "### Import libraries and connect API"
   ]
  },
  {
   "cell_type": "code",
   "execution_count": 1,
   "id": "59919792",
   "metadata": {},
   "outputs": [],
   "source": [
    "from selenium import webdriver\n",
    "import pandas as pd\n",
    "import time\n",
    "from selenium.common.exceptions import NoSuchElementException"
   ]
  },
  {
   "cell_type": "code",
   "execution_count": 2,
   "id": "8784071e",
   "metadata": {},
   "outputs": [],
   "source": [
    "obj_web=webdriver.Chrome()"
   ]
  },
  {
   "cell_type": "code",
   "execution_count": 3,
   "id": "466be5f8",
   "metadata": {},
   "outputs": [],
   "source": [
    "obj_web.get('https://www.amazon.in/gp/bestsellers/books/')"
   ]
  },
  {
   "cell_type": "markdown",
   "id": "628b5015",
   "metadata": {},
   "source": [
    "### get each element on this page with all characteristics belonging to it "
   ]
  },
  {
   "cell_type": "code",
   "execution_count": 4,
   "id": "608ce584",
   "metadata": {},
   "outputs": [],
   "source": [
    "elements=obj_web.find_elements(\"xpath\",\"//div[@class='zg-grid-general-faceout']\")"
   ]
  },
  {
   "cell_type": "code",
   "execution_count": 5,
   "id": "385ca18d",
   "metadata": {},
   "outputs": [
    {
     "name": "stdout",
     "output_type": "stream",
     "text": [
      "Educart PRAYAS CBSE Class 10 Chapterwise Most Important Qs (& PYQs) - Maths, Science, SST and English for February 2025 Boards\n",
      "Prashant Kirad\n",
      "11\n",
      "Paperback\n",
      "₹479.00\n",
      "Too Good to Be True : A smart, funny will-they-won’t-they romance\n",
      "Prajakta Koli\n",
      "Paperback\n",
      "₹285.00\n",
      "Static G.K By Ankit Bhati And Naveen Sir In Hindi Latest 2025\n",
      "Ankit Bhati Sir\n",
      "45\n",
      "Paperback\n",
      "₹135.00\n",
      "The Psychology of Money [Paperback] Morgan Housel\n",
      "Morgan Housel\n",
      "69,147\n",
      "Paperback\n",
      "₹292.00\n",
      "Dopamine Detox : A Short Guide to Remove Distractions and Get Your Brain to Do Hard Things\n",
      "Thibaut Meurisse\n",
      "12,394\n",
      "Paperback\n",
      "₹192.00\n",
      "My First Library: Boxset of 10 Board Books for Kids\n",
      "Wonder House Books\n",
      "81,359\n",
      "Board book\n",
      "₹399.00\n",
      "Oswaal CBSE 25 Combined Sample Question papers Class 10 Books Science Mathematics Standard Social Science English Language and Literature Hindi-A (For 2025 Exam)\n",
      "Oswaal Editorial Board\n",
      "145\n",
      "Paperback\n",
      "₹422.00\n",
      "Atomic Habits\n",
      "James Clear\n",
      "100,176\n",
      "Paperback\n",
      "₹525.00\n",
      "Educart CBSE Class 10 Most Likely Sets of Sample Papers - Science, Maths Standard, Social Science & English (with Answer Writing Sheets 2024-25)\n",
      "Prashant Kirad\n",
      "47\n",
      "Paperback\n",
      "₹494.00\n",
      "White Nights\n",
      "Fyodor Dostoyevsky\n",
      "1,655\n",
      "Mass Market Paperback\n",
      "₹124.00\n",
      "Rupesh Thakur Prasad Panchang 2025 /Thakur Prasad Medium Colorful Hindi Panchang Calendar 2025\n",
      "Rupesh Thakur\n",
      "562\n",
      "Calendar\n",
      "₹70.00\n",
      "PW NTA NEET Rankers Test Series 2025 Verified & Curated by Expert Faculties | 10 Full Syllabus + 4 Part Syllabus (Class 11 & 12) | OMR Sheet, Solution Booklet with NCERT References\n",
      "Physics Wallah (PW)\n",
      "44\n",
      "Paperback\n",
      "₹598.00\n",
      "Animals Tales From Panchtantra: Timeless Stories for Children From Ancient India\n",
      "Wonder House Books\n",
      "6,161\n",
      "Hardcover\n",
      "₹199.00\n",
      "Amma Diarylo Konni Pageelu\n",
      "Ravi Mantri\n",
      "1,354\n",
      "Paperback\n",
      "₹220.00\n",
      "Don't Believe Everything You Think (English)\n",
      "Joseph Nguyen\n",
      "9,104\n",
      "Paperback\n",
      "₹185.00\n",
      "My First Book of Patterns Pencil Control: Patterns Practice book for kids (Pattern Writing)\n",
      "Wonder House Books\n",
      "29,232\n",
      "Paperback\n",
      "₹129.00\n",
      "Ikigai: Japanese secret to long and happy life\n",
      "Francesc García, Héctor,Miralles\n",
      "57,017\n",
      "Hardcover\n",
      "₹334.00\n",
      "Educart CBSE Class 10 Final Revision Book 2025 - Maths + Science + Social Science + English (2024-25)\n",
      "Prem Sharma\n",
      "41\n",
      "Paperback\n",
      "₹639.00\n",
      "The Mountain Is You: Transforming Self-Sabotage Into Self-Mastery (English)\n",
      "Brianna Wiest\n",
      "20,803\n",
      "Paperback\n",
      "₹261.00\n",
      "The Power of Your Subconscious Mind: Original Classic Edition | Premium Paperback\n",
      "Joseph Murphy\n",
      "50,030\n",
      "Paperback\n",
      "₹149.00\n",
      "The Art of Being Alone: Loneliness Was My Cage, Solitude Is My Home (English)\n",
      "Renuka Gavrani\n",
      "2,278\n",
      "Paperback\n",
      "₹200.00\n",
      "World’s Greatest Books For Personal Growth & Wealth (Set of 4 Books) : Perfect Motivational Gift Set\n",
      "Dale Carnegie\n",
      "26,445\n",
      "Paperback\n",
      "₹349.00\n",
      "The Power of Your Subconscious Mind: Original Edition | Premium Paperback\n",
      "Joseph Murphy\n",
      "13,714\n",
      "Paperback\n",
      "₹149.00\n",
      "Rich Dad Poor Dad: What the Rich Teach Their Kids About Money That the Poor and Middle Class Do Not!\n",
      "Robert T. Kiyosaki\n",
      "32,523\n",
      "Mass Market Paperback\n",
      "₹385.00\n",
      "The Art of Letting Go: Move Beyond the Hurt, Find Emotional Freedom and Restore Your Inner Peace\n",
      "Nick Trenton\n",
      "55\n",
      "Paperback\n",
      "₹159.00\n",
      "The Satvic Revolution: 7 Life-Changing Habits to Discover Peak Health and Joy\n",
      "Subah Saraf\n",
      "1,095\n",
      "Paperback\n",
      "₹308.00\n",
      "Oswaal CBSE Sample Question Papers Class 10 Science Book (For 2025 Exam)\n",
      "Oswaal Editorial Board\n",
      "103\n",
      "Paperback\n",
      "₹305.00\n",
      "Moral Story Books for Kids (Illustrated) - English Short Stories with Colourful Pictures - Bedtime Children Story Book - 3 Years to 6 Years Old Children - Read Aloud to Infants, Toddlers (Set of 10 Books)\n",
      "Maple Press\n",
      "3,329\n",
      "Product Bundle\n",
      "₹228.00\n",
      "GUNAHO KA DEVTA\n",
      "DHARAMVEER BHARTI\n",
      "1,311\n",
      "Paperback\n",
      "₹251.00\n",
      "SSC GD COMBO 2025 (GK+HINDI + MATHS +REASONING)\n",
      "ANKIT BHATI\n",
      "89\n",
      "Paperback\n",
      "₹429.00\n"
     ]
    }
   ],
   "source": [
    "for i in elements:\n",
    "    print(i.text)"
   ]
  },
  {
   "cell_type": "markdown",
   "id": "8105689e",
   "metadata": {},
   "source": [
    "### create list for each  characteristics belonging to each element"
   ]
  },
  {
   "cell_type": "code",
   "execution_count": 12,
   "id": "8196d95c",
   "metadata": {},
   "outputs": [],
   "source": [
    "book_names=[]\n",
    "book_authors=[]\n",
    "rates=[]\n",
    "prices=[]\n",
    "book_images=[]\n"
   ]
  },
  {
   "cell_type": "code",
   "execution_count": 13,
   "id": "2efa2f87",
   "metadata": {},
   "outputs": [],
   "source": [
    "# time.sleep(5)\n",
    "for element in elements:\n",
    "    \n",
    "    try:\n",
    "        auther=element.find_element(\"xpath\", \".//div[@class='a-row a-size-small']//a[@class='a-size-small a-link-child']//DIV[@class='_cDEzb_p13n-sc-css-line-clamp-1_1Fn1y']\").text\n",
    "        book_authors.append(auther)\n",
    "    except NoSuchElementException:\n",
    "        auther = element.find_element(\"xpath\", \".//span[@class='a-size-small a-color-base']//DIV[@class='_cDEzb_p13n-sc-css-line-clamp-1_1Fn1y']\").text\n",
    "        book_authors.append(auther)\n",
    "        \n",
    "    try:\n",
    "        name=element.find_element(\"xpath\", \".//a[@class='a-link-normal aok-block']//span//DIV[@class='_cDEzb_p13n-sc-css-line-clamp-1_1Fn1y']\").text\n",
    "        book_names.append(name)\n",
    "    except NoSuchElementException:\n",
    "        name = element.find_element(\"xpath\", \".//a[@class='a-link-normal aok-block']//span//DIV[@class='_cDEzb_p13n-sc-css-line-clamp-2_EWgCb']\").text\n",
    "        book_names.append(name)\n",
    "\n",
    "    try:\n",
    "        price=element.find_element(\"xpath\", \".//span[@class='_cDEzb_p13n-sc-price_3mJ9Z']\").text\n",
    "        prices.append(price)\n",
    "    except NoSuchElementException:\n",
    "        price = \"no price\"\n",
    "        prices.append(price)\n",
    "    \n",
    "    try:\n",
    "        rate = element.find_element(\"xpath\", \".//span[@aria-hidden='true']\").text\n",
    "        rates.append(rate)\n",
    "    except NoSuchElementException:\n",
    "        rate = \"no rate\"\n",
    "        rates.append(rate)"
   ]
  },
  {
   "cell_type": "code",
   "execution_count": 14,
   "id": "66f05ba1",
   "metadata": {},
   "outputs": [
    {
     "name": "stdout",
     "output_type": "stream",
     "text": [
      "Books names:  ['Educart PRAYAS CBSE Class 10 Chapterwise Most Important Qs (& PYQs) - Maths, Science, SST and English for February 2025 Boards', 'Too Good to Be True : A smart, funny will-they-won’t-they romance', 'Static G.K By Ankit Bhati And Naveen Sir In Hindi Latest 2025', 'The Psychology of Money [Paperback] Morgan Housel', 'Dopamine Detox : A Short Guide to Remove Distractions and Get Your Brain to Do Hard Things', 'My First Library: Boxset of 10 Board Books for Kids', 'Oswaal CBSE 25 Combined Sample Question papers Class 10 Books Science Mathematics Standard Social Science English Language and Literature Hindi-A (For 2025 Exam)', 'Atomic Habits', 'Educart CBSE Class 10 Most Likely Sets of Sample Papers - Science, Maths Standard, Social Science & English (with Answer Writing Sheets 2024-25)', 'White Nights']\n",
      "---------------------------------------------------------\n",
      "Book authors:  ['Prashant Kirad', 'Prajakta Koli', 'Ankit Bhati Sir', 'Morgan Housel', 'Thibaut Meurisse', 'Wonder House Books', 'Oswaal Editorial Board', 'James Clear', 'Prashant Kirad', 'Fyodor Dostoyevsky']\n",
      "---------------------------------------------------------\n",
      "Books prices:  ['₹479.00', '₹285.00', '₹135.00', '₹292.00', '₹192.00', '₹399.00', '₹422.00', '₹525.00', '₹494.00', '₹124.00']\n",
      "---------------------------------------------------------\n",
      "Books rates:  ['11', 'no rate', '45', '69,147', '12,394', '81,359', '145', '100,176', '47', '1,655']\n"
     ]
    }
   ],
   "source": [
    "# show the first ten elements\n",
    "print(\"Books names: \",book_names[:10])\n",
    "print(\"---------------------------------------------------------\")\n",
    "print(\"Book authors: \",book_authors[:10])\n",
    "print(\"---------------------------------------------------------\")\n",
    "print(\"Books prices: \",prices[:10])\n",
    "print(\"---------------------------------------------------------\")\n",
    "print(\"Books rates: \",rates[:10])\n"
   ]
  },
  {
   "cell_type": "code",
   "execution_count": 15,
   "id": "d5d0b436",
   "metadata": {},
   "outputs": [
    {
     "name": "stdout",
     "output_type": "stream",
     "text": [
      "30\n",
      "30\n",
      "30\n",
      "30\n"
     ]
    }
   ],
   "source": [
    "# print length of each one \n",
    "print(len(book_authors))\n",
    "print(len(book_names))\n",
    "print(len(prices))\n",
    "print(len(rates))"
   ]
  },
  {
   "cell_type": "markdown",
   "id": "2acbd562",
   "metadata": {},
   "source": [
    "#### Insight:\n",
    "There are some element not in same class so handling them well."
   ]
  },
  {
   "cell_type": "markdown",
   "id": "9b2d2de7",
   "metadata": {},
   "source": [
    "### Make DateFrame from lists "
   ]
  },
  {
   "cell_type": "code",
   "execution_count": 16,
   "id": "fbe73798",
   "metadata": {},
   "outputs": [
    {
     "data": {
      "text/html": [
       "<div>\n",
       "<style scoped>\n",
       "    .dataframe tbody tr th:only-of-type {\n",
       "        vertical-align: middle;\n",
       "    }\n",
       "\n",
       "    .dataframe tbody tr th {\n",
       "        vertical-align: top;\n",
       "    }\n",
       "\n",
       "    .dataframe thead th {\n",
       "        text-align: right;\n",
       "    }\n",
       "</style>\n",
       "<table border=\"1\" class=\"dataframe\">\n",
       "  <thead>\n",
       "    <tr style=\"text-align: right;\">\n",
       "      <th></th>\n",
       "      <th>Name</th>\n",
       "      <th>author</th>\n",
       "      <th>price</th>\n",
       "      <th>rate</th>\n",
       "    </tr>\n",
       "  </thead>\n",
       "  <tbody>\n",
       "    <tr>\n",
       "      <th>0</th>\n",
       "      <td>Educart PRAYAS CBSE Class 10 Chapterwise Most ...</td>\n",
       "      <td>Prashant Kirad</td>\n",
       "      <td>₹479.00</td>\n",
       "      <td>11</td>\n",
       "    </tr>\n",
       "    <tr>\n",
       "      <th>1</th>\n",
       "      <td>Too Good to Be True : A smart, funny will-they...</td>\n",
       "      <td>Prajakta Koli</td>\n",
       "      <td>₹285.00</td>\n",
       "      <td>no rate</td>\n",
       "    </tr>\n",
       "    <tr>\n",
       "      <th>2</th>\n",
       "      <td>Static G.K By Ankit Bhati And Naveen Sir In Hi...</td>\n",
       "      <td>Ankit Bhati Sir</td>\n",
       "      <td>₹135.00</td>\n",
       "      <td>45</td>\n",
       "    </tr>\n",
       "    <tr>\n",
       "      <th>3</th>\n",
       "      <td>The Psychology of Money [Paperback] Morgan Housel</td>\n",
       "      <td>Morgan Housel</td>\n",
       "      <td>₹292.00</td>\n",
       "      <td>69,147</td>\n",
       "    </tr>\n",
       "    <tr>\n",
       "      <th>4</th>\n",
       "      <td>Dopamine Detox : A Short Guide to Remove Distr...</td>\n",
       "      <td>Thibaut Meurisse</td>\n",
       "      <td>₹192.00</td>\n",
       "      <td>12,394</td>\n",
       "    </tr>\n",
       "    <tr>\n",
       "      <th>5</th>\n",
       "      <td>My First Library: Boxset of 10 Board Books for...</td>\n",
       "      <td>Wonder House Books</td>\n",
       "      <td>₹399.00</td>\n",
       "      <td>81,359</td>\n",
       "    </tr>\n",
       "    <tr>\n",
       "      <th>6</th>\n",
       "      <td>Oswaal CBSE 25 Combined Sample Question papers...</td>\n",
       "      <td>Oswaal Editorial Board</td>\n",
       "      <td>₹422.00</td>\n",
       "      <td>145</td>\n",
       "    </tr>\n",
       "    <tr>\n",
       "      <th>7</th>\n",
       "      <td>Atomic Habits</td>\n",
       "      <td>James Clear</td>\n",
       "      <td>₹525.00</td>\n",
       "      <td>100,176</td>\n",
       "    </tr>\n",
       "    <tr>\n",
       "      <th>8</th>\n",
       "      <td>Educart CBSE Class 10 Most Likely Sets of Samp...</td>\n",
       "      <td>Prashant Kirad</td>\n",
       "      <td>₹494.00</td>\n",
       "      <td>47</td>\n",
       "    </tr>\n",
       "    <tr>\n",
       "      <th>9</th>\n",
       "      <td>White Nights</td>\n",
       "      <td>Fyodor Dostoyevsky</td>\n",
       "      <td>₹124.00</td>\n",
       "      <td>1,655</td>\n",
       "    </tr>\n",
       "  </tbody>\n",
       "</table>\n",
       "</div>"
      ],
      "text/plain": [
       "                                                Name                  author  \\\n",
       "0  Educart PRAYAS CBSE Class 10 Chapterwise Most ...          Prashant Kirad   \n",
       "1  Too Good to Be True : A smart, funny will-they...           Prajakta Koli   \n",
       "2  Static G.K By Ankit Bhati And Naveen Sir In Hi...         Ankit Bhati Sir   \n",
       "3  The Psychology of Money [Paperback] Morgan Housel           Morgan Housel   \n",
       "4  Dopamine Detox : A Short Guide to Remove Distr...        Thibaut Meurisse   \n",
       "5  My First Library: Boxset of 10 Board Books for...      Wonder House Books   \n",
       "6  Oswaal CBSE 25 Combined Sample Question papers...  Oswaal Editorial Board   \n",
       "7                                      Atomic Habits             James Clear   \n",
       "8  Educart CBSE Class 10 Most Likely Sets of Samp...          Prashant Kirad   \n",
       "9                                       White Nights      Fyodor Dostoyevsky   \n",
       "\n",
       "     price     rate  \n",
       "0  ₹479.00       11  \n",
       "1  ₹285.00  no rate  \n",
       "2  ₹135.00       45  \n",
       "3  ₹292.00   69,147  \n",
       "4  ₹192.00   12,394  \n",
       "5  ₹399.00   81,359  \n",
       "6  ₹422.00      145  \n",
       "7  ₹525.00  100,176  \n",
       "8  ₹494.00       47  \n",
       "9  ₹124.00    1,655  "
      ]
     },
     "execution_count": 16,
     "metadata": {},
     "output_type": "execute_result"
    }
   ],
   "source": [
    "df_books = pd.DataFrame(zip(book_names,book_authors,prices,rates), columns=['Name','author','price','rate'])\n",
    "df_books.head(10)"
   ]
  },
  {
   "cell_type": "markdown",
   "id": "fd2aeccd",
   "metadata": {},
   "source": [
    "### Get image for each element"
   ]
  },
  {
   "cell_type": "code",
   "execution_count": 17,
   "id": "96246d41",
   "metadata": {},
   "outputs": [],
   "source": [
    "images=obj_web.find_elements(\"xpath\",\"//div[@class='a-section a-spacing-mini _cDEzb_noop_3Xbw5']//img\")"
   ]
  },
  {
   "cell_type": "code",
   "execution_count": 18,
   "id": "07047d71",
   "metadata": {},
   "outputs": [
    {
     "name": "stdout",
     "output_type": "stream",
     "text": [
      "https://images-eu.ssl-images-amazon.com/images/I/81gOZZesB9L._AC_UL900_SR900,600_.jpg\n",
      "https://images-eu.ssl-images-amazon.com/images/I/81pGO40uexL._AC_UL900_SR900,600_.jpg\n",
      "https://images-eu.ssl-images-amazon.com/images/I/71GrKMm+bgL._AC_UL900_SR900,600_.jpg\n",
      "https://images-eu.ssl-images-amazon.com/images/I/81Dky+tD+pL._AC_UL900_SR900,600_.jpg\n",
      "https://images-eu.ssl-images-amazon.com/images/I/712K3sdLlRL._AC_UL900_SR900,600_.jpg\n",
      "https://images-eu.ssl-images-amazon.com/images/I/711c-uf6AFL._AC_UL900_SR900,600_.jpg\n",
      "https://images-eu.ssl-images-amazon.com/images/I/813SflvsqCL._AC_UL900_SR900,600_.jpg\n",
      "https://images-eu.ssl-images-amazon.com/images/I/81F90H7hnML._AC_UL900_SR900,600_.jpg\n",
      "https://images-eu.ssl-images-amazon.com/images/I/81NkV0f0HuL._AC_UL900_SR900,600_.jpg\n",
      "https://images-eu.ssl-images-amazon.com/images/I/51lMJWnnRDL._AC_UL900_SR900,600_.jpg\n",
      "https://images-eu.ssl-images-amazon.com/images/I/91X8TeuO+5L._AC_UL900_SR900,600_.jpg\n",
      "https://images-eu.ssl-images-amazon.com/images/I/71Q-aej+R2L._AC_UL900_SR900,600_.jpg\n",
      "https://images-eu.ssl-images-amazon.com/images/I/81WCSu2RoJS._AC_UL900_SR900,600_.jpg\n",
      "https://images-eu.ssl-images-amazon.com/images/I/81rjyBm+UYL._AC_UL900_SR900,600_.jpg\n",
      "https://images-eu.ssl-images-amazon.com/images/I/715qi-cIbML._AC_UL900_SR900,600_.jpg\n",
      "https://images-eu.ssl-images-amazon.com/images/I/71Ytm8A3piL._AC_UL900_SR900,600_.jpg\n",
      "https://images-eu.ssl-images-amazon.com/images/I/81l3rZK4lnL._AC_UL900_SR900,600_.jpg\n",
      "https://images-eu.ssl-images-amazon.com/images/I/81HxcZT-K+L._AC_UL900_SR900,600_.jpg\n",
      "https://images-eu.ssl-images-amazon.com/images/I/61xivWmExiL._AC_UL900_SR900,600_.jpg\n",
      "https://images-eu.ssl-images-amazon.com/images/I/61WMgOHyDaL._AC_UL900_SR900,600_.jpg\n",
      "https://images-eu.ssl-images-amazon.com/images/I/61Ktyy7KymL._AC_UL900_SR900,600_.jpg\n",
      "https://images-eu.ssl-images-amazon.com/images/I/71TqdH9wTmL._AC_UL900_SR900,600_.jpg\n",
      "https://images-eu.ssl-images-amazon.com/images/I/71sBtM3Yi5L._AC_UL900_SR900,600_.jpg\n",
      "https://images-eu.ssl-images-amazon.com/images/I/81BE7eeKzAL._AC_UL900_SR900,600_.jpg\n",
      "https://images-eu.ssl-images-amazon.com/images/I/71pEaSYkhsL._AC_UL900_SR900,600_.jpg\n",
      "https://images-eu.ssl-images-amazon.com/images/I/61AWbc63g3L._AC_UL900_SR900,600_.jpg\n",
      "https://images-eu.ssl-images-amazon.com/images/I/81fbUdMYT0L._AC_UL900_SR900,600_.jpg\n",
      "https://images-eu.ssl-images-amazon.com/images/I/710GgrTea1L._AC_UL900_SR900,600_.jpg\n",
      "https://images-eu.ssl-images-amazon.com/images/I/41DdeYNfqLL._AC_UL900_SR900,600_.jpg\n",
      "https://images-eu.ssl-images-amazon.com/images/I/81UXlh8UuqL._AC_UL900_SR900,600_.jpg\n"
     ]
    }
   ],
   "source": [
    "for i in images:\n",
    "    print(i.get_attribute(\"src\"))\n",
    "    "
   ]
  },
  {
   "cell_type": "markdown",
   "id": "63106247",
   "metadata": {},
   "source": [
    "#### check length of images"
   ]
  },
  {
   "cell_type": "code",
   "execution_count": 19,
   "id": "7d13a0b7",
   "metadata": {},
   "outputs": [
    {
     "data": {
      "text/plain": [
       "30"
      ]
     },
     "execution_count": 19,
     "metadata": {},
     "output_type": "execute_result"
    }
   ],
   "source": [
    "len(images)"
   ]
  },
  {
   "cell_type": "markdown",
   "id": "9320fbae",
   "metadata": {},
   "source": [
    "### append images source in books_images list "
   ]
  },
  {
   "cell_type": "code",
   "execution_count": 20,
   "id": "de21a72c",
   "metadata": {},
   "outputs": [],
   "source": [
    "for i in images:\n",
    "    book_images.append(i.get_attribute(\"src\"))\n"
   ]
  },
  {
   "cell_type": "markdown",
   "id": "05bc9c9a",
   "metadata": {},
   "source": [
    "### create coulmn for image in our  DataFrame "
   ]
  },
  {
   "cell_type": "code",
   "execution_count": 21,
   "id": "4650ae21",
   "metadata": {},
   "outputs": [
    {
     "data": {
      "text/html": [
       "<div>\n",
       "<style scoped>\n",
       "    .dataframe tbody tr th:only-of-type {\n",
       "        vertical-align: middle;\n",
       "    }\n",
       "\n",
       "    .dataframe tbody tr th {\n",
       "        vertical-align: top;\n",
       "    }\n",
       "\n",
       "    .dataframe thead th {\n",
       "        text-align: right;\n",
       "    }\n",
       "</style>\n",
       "<table border=\"1\" class=\"dataframe\">\n",
       "  <thead>\n",
       "    <tr style=\"text-align: right;\">\n",
       "      <th></th>\n",
       "      <th>Name</th>\n",
       "      <th>author</th>\n",
       "      <th>price</th>\n",
       "      <th>rate</th>\n",
       "      <th>image</th>\n",
       "    </tr>\n",
       "  </thead>\n",
       "  <tbody>\n",
       "    <tr>\n",
       "      <th>0</th>\n",
       "      <td>Educart PRAYAS CBSE Class 10 Chapterwise Most ...</td>\n",
       "      <td>Prashant Kirad</td>\n",
       "      <td>₹479.00</td>\n",
       "      <td>11</td>\n",
       "      <td>https://images-eu.ssl-images-amazon.com/images...</td>\n",
       "    </tr>\n",
       "    <tr>\n",
       "      <th>1</th>\n",
       "      <td>Too Good to Be True : A smart, funny will-they...</td>\n",
       "      <td>Prajakta Koli</td>\n",
       "      <td>₹285.00</td>\n",
       "      <td>no rate</td>\n",
       "      <td>https://images-eu.ssl-images-amazon.com/images...</td>\n",
       "    </tr>\n",
       "    <tr>\n",
       "      <th>2</th>\n",
       "      <td>Static G.K By Ankit Bhati And Naveen Sir In Hi...</td>\n",
       "      <td>Ankit Bhati Sir</td>\n",
       "      <td>₹135.00</td>\n",
       "      <td>45</td>\n",
       "      <td>https://images-eu.ssl-images-amazon.com/images...</td>\n",
       "    </tr>\n",
       "    <tr>\n",
       "      <th>3</th>\n",
       "      <td>The Psychology of Money [Paperback] Morgan Housel</td>\n",
       "      <td>Morgan Housel</td>\n",
       "      <td>₹292.00</td>\n",
       "      <td>69,147</td>\n",
       "      <td>https://images-eu.ssl-images-amazon.com/images...</td>\n",
       "    </tr>\n",
       "    <tr>\n",
       "      <th>4</th>\n",
       "      <td>Dopamine Detox : A Short Guide to Remove Distr...</td>\n",
       "      <td>Thibaut Meurisse</td>\n",
       "      <td>₹192.00</td>\n",
       "      <td>12,394</td>\n",
       "      <td>https://images-eu.ssl-images-amazon.com/images...</td>\n",
       "    </tr>\n",
       "    <tr>\n",
       "      <th>5</th>\n",
       "      <td>My First Library: Boxset of 10 Board Books for...</td>\n",
       "      <td>Wonder House Books</td>\n",
       "      <td>₹399.00</td>\n",
       "      <td>81,359</td>\n",
       "      <td>https://images-eu.ssl-images-amazon.com/images...</td>\n",
       "    </tr>\n",
       "    <tr>\n",
       "      <th>6</th>\n",
       "      <td>Oswaal CBSE 25 Combined Sample Question papers...</td>\n",
       "      <td>Oswaal Editorial Board</td>\n",
       "      <td>₹422.00</td>\n",
       "      <td>145</td>\n",
       "      <td>https://images-eu.ssl-images-amazon.com/images...</td>\n",
       "    </tr>\n",
       "    <tr>\n",
       "      <th>7</th>\n",
       "      <td>Atomic Habits</td>\n",
       "      <td>James Clear</td>\n",
       "      <td>₹525.00</td>\n",
       "      <td>100,176</td>\n",
       "      <td>https://images-eu.ssl-images-amazon.com/images...</td>\n",
       "    </tr>\n",
       "    <tr>\n",
       "      <th>8</th>\n",
       "      <td>Educart CBSE Class 10 Most Likely Sets of Samp...</td>\n",
       "      <td>Prashant Kirad</td>\n",
       "      <td>₹494.00</td>\n",
       "      <td>47</td>\n",
       "      <td>https://images-eu.ssl-images-amazon.com/images...</td>\n",
       "    </tr>\n",
       "    <tr>\n",
       "      <th>9</th>\n",
       "      <td>White Nights</td>\n",
       "      <td>Fyodor Dostoyevsky</td>\n",
       "      <td>₹124.00</td>\n",
       "      <td>1,655</td>\n",
       "      <td>https://images-eu.ssl-images-amazon.com/images...</td>\n",
       "    </tr>\n",
       "  </tbody>\n",
       "</table>\n",
       "</div>"
      ],
      "text/plain": [
       "                                                Name                  author  \\\n",
       "0  Educart PRAYAS CBSE Class 10 Chapterwise Most ...          Prashant Kirad   \n",
       "1  Too Good to Be True : A smart, funny will-they...           Prajakta Koli   \n",
       "2  Static G.K By Ankit Bhati And Naveen Sir In Hi...         Ankit Bhati Sir   \n",
       "3  The Psychology of Money [Paperback] Morgan Housel           Morgan Housel   \n",
       "4  Dopamine Detox : A Short Guide to Remove Distr...        Thibaut Meurisse   \n",
       "5  My First Library: Boxset of 10 Board Books for...      Wonder House Books   \n",
       "6  Oswaal CBSE 25 Combined Sample Question papers...  Oswaal Editorial Board   \n",
       "7                                      Atomic Habits             James Clear   \n",
       "8  Educart CBSE Class 10 Most Likely Sets of Samp...          Prashant Kirad   \n",
       "9                                       White Nights      Fyodor Dostoyevsky   \n",
       "\n",
       "     price     rate                                              image  \n",
       "0  ₹479.00       11  https://images-eu.ssl-images-amazon.com/images...  \n",
       "1  ₹285.00  no rate  https://images-eu.ssl-images-amazon.com/images...  \n",
       "2  ₹135.00       45  https://images-eu.ssl-images-amazon.com/images...  \n",
       "3  ₹292.00   69,147  https://images-eu.ssl-images-amazon.com/images...  \n",
       "4  ₹192.00   12,394  https://images-eu.ssl-images-amazon.com/images...  \n",
       "5  ₹399.00   81,359  https://images-eu.ssl-images-amazon.com/images...  \n",
       "6  ₹422.00      145  https://images-eu.ssl-images-amazon.com/images...  \n",
       "7  ₹525.00  100,176  https://images-eu.ssl-images-amazon.com/images...  \n",
       "8  ₹494.00       47  https://images-eu.ssl-images-amazon.com/images...  \n",
       "9  ₹124.00    1,655  https://images-eu.ssl-images-amazon.com/images...  "
      ]
     },
     "execution_count": 21,
     "metadata": {},
     "output_type": "execute_result"
    }
   ],
   "source": [
    "df_books['image']=book_images\n",
    "df_books.head(10)"
   ]
  },
  {
   "cell_type": "markdown",
   "id": "5138c401",
   "metadata": {},
   "source": [
    "### Save Data in CSV file"
   ]
  },
  {
   "cell_type": "code",
   "execution_count": 25,
   "id": "a69b2d41",
   "metadata": {},
   "outputs": [],
   "source": [
    "df_books.to_csv(\"Books_amazon.csv\")"
   ]
  }
 ],
 "metadata": {
  "kernelspec": {
   "display_name": "Python 3 (ipykernel)",
   "language": "python",
   "name": "python3"
  },
  "language_info": {
   "codemirror_mode": {
    "name": "ipython",
    "version": 3
   },
   "file_extension": ".py",
   "mimetype": "text/x-python",
   "name": "python",
   "nbconvert_exporter": "python",
   "pygments_lexer": "ipython3",
   "version": "3.11.3"
  }
 },
 "nbformat": 4,
 "nbformat_minor": 5
}
