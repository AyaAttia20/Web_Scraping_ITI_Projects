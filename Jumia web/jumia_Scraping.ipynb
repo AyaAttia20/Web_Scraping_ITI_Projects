{
 "cells": [
  {
   "cell_type": "markdown",
   "id": "73968af8",
   "metadata": {},
   "source": [
    "# Scaping products from jumia website"
   ]
  },
  {
   "cell_type": "markdown",
   "id": "6359ff87",
   "metadata": {},
   "source": [
    "### Import libraries and connect to website"
   ]
  },
  {
   "cell_type": "code",
   "execution_count": 1,
   "id": "8d66cf46",
   "metadata": {},
   "outputs": [],
   "source": [
    "from selenium import webdriver\n",
    "import pandas as pd\n",
    "import time\n",
    "from selenium.common.exceptions import NoSuchElementException"
   ]
  },
  {
   "cell_type": "code",
   "execution_count": 2,
   "id": "f8cdbc3d",
   "metadata": {},
   "outputs": [],
   "source": [
    "obj_jum=webdriver.Chrome()"
   ]
  },
  {
   "cell_type": "code",
   "execution_count": 3,
   "id": "45021069",
   "metadata": {},
   "outputs": [],
   "source": [
    "obj_jum.get('https://www.jumia.com.eg/luggage-travel-gear/#catalog-listing')"
   ]
  },
  {
   "cell_type": "markdown",
   "id": "2b3802e0",
   "metadata": {},
   "source": [
    "### try to get the whole product in this page "
   ]
  },
  {
   "cell_type": "code",
   "execution_count": 149,
   "id": "049d410b",
   "metadata": {},
   "outputs": [],
   "source": [
    "products=obj_jum.find_elements(\"xpath\",\"//div[@class='-phs -pvxs row _no-g _4cl-3cm-shs']//article[@class='prd _fb col c-prd']\")"
   ]
  },
  {
   "cell_type": "code",
   "execution_count": 150,
   "id": "6f5ae16e",
   "metadata": {},
   "outputs": [
    {
     "name": "stdout",
     "output_type": "stream",
     "text": [
      "Official Store\n",
      "ADIDAS EAY85 Classic Foundation Backpack- Green\n",
      "EGP 1,079.00\n",
      "EGP 1,349.00\n",
      "20%\n",
      "4.6 out of 5\n",
      "(72)\n",
      "Official Store\n",
      "ADIDAS RF082 Motion Linear Backpack- Black\n",
      "EGP 1,679.00\n",
      "EGP 2,099.00\n",
      "20%\n",
      "4.6 out of 5\n",
      "(120)\n",
      "Official Store\n",
      "ADIDAS SF501 4Athlts Camper Backpack- Blue\n",
      "EGP 2,159.00\n",
      "EGP 2,699.00\n",
      "20%\n",
      "4.8 out of 5\n",
      "(28)\n",
      "Official Store\n",
      "ADIDAS CJ601 Training Backpack- Blue\n",
      "EGP 1,275.00\n",
      "EGP 1,594.00\n",
      "20%\n",
      "4.5 out of 5\n",
      "(25)\n",
      "Umbrella To Protect From The Sun And Rain\n",
      "EGP 239.90\n",
      "EGP 1,000.00\n",
      "76%\n",
      "4.9 out of 5\n",
      "(16)\n",
      "Official Store\n",
      "ADIDAS DSZ32 Junior Boys And Girls Brand Love Backpack- Green\n",
      "EGP 1,519.00\n",
      "EGP 1,899.00\n",
      "20%\n",
      "4.5 out of 5\n",
      "(13)\n",
      "Buy 1 Get 1 Free\n",
      "Official Store\n",
      "ADIDAS IKS76 Must Haves 2-In-1 Backpack- Black\n",
      "EGP 3,799.00\n",
      "4.1 out of 5\n",
      "(8)\n",
      "Laptop Bag 15.6-Inch Laptop - Black\n",
      "EGP 325.00\n",
      "3.7 out of 5\n",
      "(42)\n",
      "Transparent Umbrella High Quality\n",
      "EGP 115.00\n",
      "EGP 350.00\n",
      "67%\n",
      "4.3 out of 5\n",
      "(10)\n",
      "Big Umbrella Bombai 1pcs Black\n",
      "EGP 194.00\n",
      "EGP 450.00\n",
      "57%\n",
      "4.2 out of 5\n",
      "(38)\n",
      "Mintra Drawstring Backpack Rush Bag Pirate Black Front Pocket Rush Bag Pirate -Black.\n",
      "EGP 141.00\n",
      "EGP 256.00\n",
      "45%\n",
      "4 out of 5\n",
      "(2)\n",
      "Organizer Wallet For Passport, Banknotes And Cards\n",
      "EGP 97.00\n",
      "EGP 139.00\n",
      "30%\n",
      "4.5 out of 5\n",
      "(38)\n",
      "Official Store\n",
      "ADIDAS DK502 Motion Badge Of Sport Backpack- Black\n",
      "EGP 1,935.00\n",
      "EGP 2,419.00\n",
      "20%\n",
      "4.9 out of 5\n",
      "(14)\n",
      "Official Store\n",
      "ADIDAS RF082 Motion Linear Backpack- Turquoise\n",
      "EGP 1,679.00\n",
      "EGP 2,099.00\n",
      "20%\n",
      "4.7 out of 5\n",
      "(19)\n",
      "Multiple Travel Wallet For Passport, Banknotes, Coins, Etc.\n",
      "EGP 98.00\n",
      "EGP 200.00\n",
      "51%\n",
      "4.2 out of 5\n",
      "(42)\n",
      "Buy 1 Get 1 Free\n",
      "Official Store\n",
      "ADIDAS DMF30 Future Icons Backpack- Black\n",
      "EGP 3,799.00\n",
      "4.3 out of 5\n",
      "(12)\n",
      "Long Card Bag And Wallet For Women And Men For Travel.Dark Blue.\n",
      "EGP 95.00\n",
      "EGP 140.00\n",
      "32%\n",
      "4.5 out of 5\n",
      "(10)\n",
      "Official Store\n",
      "ADIDAS BU238 Training Endurance Packing System Backpack 40 L- Blue\n",
      "EGP 3,999.00\n",
      "EGP 4,999.00\n",
      "20%\n",
      "4.7 out of 5\n",
      "(6)\n",
      "Official Store\n",
      "ADIDAS DSZ25 Marvel Spider-Man Backpack- Black\n",
      "EGP 1,671.00\n",
      "EGP 2,089.00\n",
      "20%\n",
      "4.6 out of 5\n",
      "(17)\n",
      "Genuine Leather Passport Holder, Cover, Handmade\n",
      "EGP 275.00\n",
      "EGP 449.00\n",
      "39%\n",
      "Official Store\n",
      "ADIDAS DMF46 Men & Women Classic Brand Love Initial Print Backpack- Grey\n",
      "EGP 1,759.00\n",
      "EGP 2,199.00\n",
      "20%\n",
      "4.9 out of 5\n",
      "(10)\n",
      "Official Store\n",
      "ADIDAS DRF69 Prime Backpack Extra Small- Black\n",
      "EGP 1,979.00\n",
      "EGP 2,474.00\n",
      "20%\n",
      "5 out of 5\n",
      "(7)\n",
      "Official Store\n",
      "ADIDAS DMF49 Classic 3-Stripes Glam Backpack- Red\n",
      "EGP 1,839.00\n",
      "EGP 2,299.00\n",
      "20%\n",
      "4.4 out of 5\n",
      "(8)\n",
      "Official Store\n",
      "ADIDAS L9583 Classic Badge Of Sport Backpack- Green\n",
      "EGP 1,671.00\n",
      "EGP 2,089.00\n",
      "20%\n",
      "5 out of 5\n",
      "(8)\n",
      "Waterproof Cross Bag - Black\n",
      "EGP 198.00\n",
      "EGP 300.00\n",
      "34%\n",
      "4.6 out of 5\n",
      "(29)\n",
      "Official Store\n",
      "ADIDAS MLQ79 Training Ep/Syst. Team Backpack 35 L- Blue\n",
      "EGP 4,399.00\n",
      "EGP 5,499.00\n",
      "20%\n",
      "4.5 out of 5\n",
      "(23)\n",
      "Travel Wallet To Keep Money And Passport And Phone\n",
      "EGP 74.00\n",
      "EGP 160.00\n",
      "54%\n",
      "4.8 out of 5\n",
      "(4)\n",
      "Multi-use Foldable Travel Handbag\n",
      "EGP 175.00\n",
      "EGP 200.00\n",
      "13%\n",
      "5 out of 5\n",
      "(2)\n",
      "Official Store\n",
      "ADIDAS DMF46 Classic Brand Love Initial Print Backpack- Burgundy\n",
      "EGP 1,935.00\n",
      "EGP 2,419.00\n",
      "20%\n",
      "4.9 out of 5\n",
      "(7)\n",
      "Mintra Zipper JetPack Printed Backpack - 35X30X15cm - Rose\n",
      "EGP 270.00\n",
      "EGP 427.00\n",
      "37%\n",
      "5 out of 5\n",
      "(2)\n",
      "Buy 1 Get 1 Free\n",
      "Official Store\n",
      "ADIDAS MLQ67 Must Haves Backpack- Beige\n",
      "EGP 3,799.00\n",
      "4.5 out of 5\n",
      "(8)\n",
      "Puma 079943-02 Phase Backpack - Navy\n",
      "EGP 1,322.00\n",
      "EGP 1,889.00\n",
      "30%\n",
      "5 out of 5\n",
      "(1)\n",
      "Unbreakable Trolley Luggage With TSA Lock, 4 Silent Spinner Wheels, Expandable Double Zipper\n",
      "EGP 1,450.00\n",
      "EGP 2,000.00\n",
      "28%\n",
      "2 out of 5\n",
      "(1)\n",
      "Multiple Travel Wallet For Passport, Banknotes, Coins, Etc.\n",
      "EGP 98.00\n",
      "EGP 180.00\n",
      "46%\n",
      "4.5 out of 5\n",
      "(12)\n",
      "Mini Wallet For Storing Credit Cards And Phone\n",
      "EGP 74.00\n",
      "EGP 160.00\n",
      "54%\n",
      "4.5 out of 5\n",
      "(2)\n",
      "USB Anti-theft Chest Package European And American Style Shoulder Bag\n",
      "EGP 139.99\n",
      "EGP 300.00\n",
      "53%\n",
      "offers from\n",
      "4.1 out of 5\n",
      "(47)\n",
      "Digital Hanging Pocket Luggage Scale\n",
      "EGP 309.00\n",
      "EGP 500.00\n",
      "38%\n",
      "4.3 out of 5\n",
      "(4)\n",
      "Airtight Storage Bag For Clothes And Blankets, Vacuum Storage Bags .(60*80 ).3pcs\n",
      "EGP 125.00\n",
      "EGP 150.00\n",
      "17%\n",
      "4.4 out of 5\n",
      "(18)\n",
      "Large Umbrella For Wider Coverage, Foldable\n",
      "EGP 249.00\n",
      "EGP 330.00\n",
      "25%\n",
      "5 out of 5\n",
      "(1)\n",
      "(2Pcs) Transparent Zippered Organizer Bag For Travel Tools\n",
      "EGP 39.00\n",
      "EGP 85.00\n",
      "54%\n",
      "3.9 out of 5\n",
      "(8)\n"
     ]
    }
   ],
   "source": [
    "for i in products:\n",
    "    print(i.text)"
   ]
  },
  {
   "cell_type": "markdown",
   "id": "c1f19612",
   "metadata": {},
   "source": [
    "### Create lists"
   ]
  },
  {
   "cell_type": "code",
   "execution_count": 151,
   "id": "84bf8fc2",
   "metadata": {},
   "outputs": [],
   "source": [
    "product_name_list=[]\n",
    "product_prices=[]\n",
    "product_rates=[]\n",
    "product_images=[]"
   ]
  },
  {
   "cell_type": "markdown",
   "id": "c4600abe",
   "metadata": {},
   "source": [
    "### get product name"
   ]
  },
  {
   "cell_type": "code",
   "execution_count": 152,
   "id": "f322fe33",
   "metadata": {},
   "outputs": [],
   "source": [
    "for product in products:\n",
    "    try:\n",
    "        product_name=product.find_element(\"xpath\",\".//div[@class='info']//h3[@class='name']\").text\n",
    "        product_name_list.append(product_name)\n",
    "    except NoSuchElementException:\n",
    "        product_name='no name'\n",
    "        product_name_list.append(product_name)\n",
    "        \n"
   ]
  },
  {
   "cell_type": "code",
   "execution_count": 153,
   "id": "4c6f71e0",
   "metadata": {},
   "outputs": [
    {
     "data": {
      "text/plain": [
       "['ADIDAS EAY85 Classic Foundation Backpack- Green',\n",
       " 'ADIDAS RF082 Motion Linear Backpack- Black',\n",
       " 'ADIDAS SF501 4Athlts Camper Backpack- Blue',\n",
       " 'ADIDAS CJ601 Training Backpack- Blue',\n",
       " 'Umbrella To Protect From The Sun And Rain',\n",
       " 'ADIDAS DSZ32 Junior Boys And Girls Brand Love Backpack- Green',\n",
       " 'ADIDAS IKS76 Must Haves 2-In-1 Backpack- Black',\n",
       " 'Laptop Bag 15.6-Inch Laptop - Black',\n",
       " 'Transparent Umbrella High Quality',\n",
       " 'Big Umbrella Bombai 1pcs Black',\n",
       " 'Mintra Drawstring Backpack Rush Bag Pirate Black Front Pocket Rush Bag Pirate -Black.',\n",
       " 'Organizer Wallet For Passport, Banknotes And Cards',\n",
       " 'ADIDAS DK502 Motion Badge Of Sport Backpack- Black',\n",
       " 'ADIDAS RF082 Motion Linear Backpack- Turquoise',\n",
       " 'Multiple Travel Wallet For Passport, Banknotes, Coins, Etc.',\n",
       " 'ADIDAS DMF30 Future Icons Backpack- Black',\n",
       " 'Long Card Bag And Wallet For Women And Men For Travel.Dark Blue.',\n",
       " 'ADIDAS BU238 Training Endurance Packing System Backpack 40 L- Blue',\n",
       " 'ADIDAS DSZ25 Marvel Spider-Man Backpack- Black',\n",
       " 'Genuine Leather Passport Holder, Cover, Handmade',\n",
       " 'ADIDAS DMF46 Men & Women Classic Brand Love Initial Print Backpack- Grey',\n",
       " 'ADIDAS DRF69 Prime Backpack Extra Small- Black',\n",
       " 'ADIDAS DMF49 Classic 3-Stripes Glam Backpack- Red',\n",
       " 'ADIDAS L9583 Classic Badge Of Sport Backpack- Green',\n",
       " 'Waterproof Cross Bag - Black',\n",
       " 'ADIDAS MLQ79 Training Ep/Syst. Team Backpack 35 L- Blue',\n",
       " 'Travel Wallet To Keep Money And Passport And Phone',\n",
       " 'Multi-use Foldable Travel Handbag',\n",
       " 'ADIDAS DMF46 Classic Brand Love Initial Print Backpack- Burgundy',\n",
       " 'Mintra Zipper JetPack Printed Backpack - 35X30X15cm - Rose',\n",
       " 'ADIDAS MLQ67 Must Haves Backpack- Beige',\n",
       " 'Puma 079943-02 Phase Backpack - Navy',\n",
       " 'Unbreakable Trolley Luggage With TSA Lock, 4 Silent Spinner Wheels, Expandable Double Zipper',\n",
       " 'Multiple Travel Wallet For Passport, Banknotes, Coins, Etc.',\n",
       " 'Mini Wallet For Storing Credit Cards And Phone',\n",
       " 'USB Anti-theft Chest Package European And American Style Shoulder Bag',\n",
       " 'Digital Hanging Pocket Luggage Scale',\n",
       " 'Airtight Storage Bag For Clothes And Blankets, Vacuum Storage Bags .(60*80 ).3pcs',\n",
       " 'Large Umbrella For Wider Coverage, Foldable',\n",
       " '(2Pcs) Transparent Zippered Organizer Bag For Travel Tools']"
      ]
     },
     "execution_count": 153,
     "metadata": {},
     "output_type": "execute_result"
    }
   ],
   "source": [
    "product_name_list"
   ]
  },
  {
   "cell_type": "markdown",
   "id": "9bd7bfd5",
   "metadata": {},
   "source": [
    "#### check length"
   ]
  },
  {
   "cell_type": "code",
   "execution_count": 154,
   "id": "9670fbfa",
   "metadata": {},
   "outputs": [
    {
     "data": {
      "text/plain": [
       "40"
      ]
     },
     "execution_count": 154,
     "metadata": {},
     "output_type": "execute_result"
    }
   ],
   "source": [
    "len(product_name_list)"
   ]
  },
  {
   "cell_type": "markdown",
   "id": "8409b469",
   "metadata": {},
   "source": [
    "### get product's price"
   ]
  },
  {
   "cell_type": "code",
   "execution_count": 155,
   "id": "5bcaf4ee",
   "metadata": {},
   "outputs": [],
   "source": [
    "for product in products:\n",
    "    try:\n",
    "        price=product.find_element(\"xpath\",\".//div[@class='info']//DIV[@class='prc']\").text\n",
    "        product_prices.append(price)\n",
    "    except NoSuchElementException:\n",
    "        price='no price'\n",
    "        product_prices.append(price)\n"
   ]
  },
  {
   "cell_type": "code",
   "execution_count": 156,
   "id": "9a310aa8",
   "metadata": {},
   "outputs": [
    {
     "data": {
      "text/plain": [
       "['EGP 1,079.00',\n",
       " 'EGP 1,679.00',\n",
       " 'EGP 2,159.00',\n",
       " 'EGP 1,275.00',\n",
       " 'EGP 239.90',\n",
       " 'EGP 1,519.00',\n",
       " 'EGP 3,799.00',\n",
       " 'EGP 325.00',\n",
       " 'EGP 115.00',\n",
       " 'EGP 194.00',\n",
       " 'EGP 141.00',\n",
       " 'EGP 97.00',\n",
       " 'EGP 1,935.00',\n",
       " 'EGP 1,679.00',\n",
       " 'EGP 98.00',\n",
       " 'EGP 3,799.00',\n",
       " 'EGP 95.00',\n",
       " 'EGP 3,999.00',\n",
       " 'EGP 1,671.00',\n",
       " 'EGP 275.00',\n",
       " 'EGP 1,759.00',\n",
       " 'EGP 1,979.00',\n",
       " 'EGP 1,839.00',\n",
       " 'EGP 1,671.00',\n",
       " 'EGP 198.00',\n",
       " 'EGP 4,399.00',\n",
       " 'EGP 74.00',\n",
       " 'EGP 175.00',\n",
       " 'EGP 1,935.00',\n",
       " 'EGP 270.00',\n",
       " 'EGP 3,799.00',\n",
       " 'EGP 1,322.00',\n",
       " 'EGP 1,450.00',\n",
       " 'EGP 98.00',\n",
       " 'EGP 74.00',\n",
       " 'EGP 139.99',\n",
       " 'EGP 309.00',\n",
       " 'EGP 125.00',\n",
       " 'EGP 249.00',\n",
       " 'EGP 39.00']"
      ]
     },
     "execution_count": 156,
     "metadata": {},
     "output_type": "execute_result"
    }
   ],
   "source": [
    "product_prices"
   ]
  },
  {
   "cell_type": "markdown",
   "id": "36c39497",
   "metadata": {},
   "source": [
    "#### Check length"
   ]
  },
  {
   "cell_type": "code",
   "execution_count": 157,
   "id": "d0544ba6",
   "metadata": {},
   "outputs": [
    {
     "data": {
      "text/plain": [
       "40"
      ]
     },
     "execution_count": 157,
     "metadata": {},
     "output_type": "execute_result"
    }
   ],
   "source": [
    "len(product_prices)"
   ]
  },
  {
   "cell_type": "markdown",
   "id": "41696f9b",
   "metadata": {},
   "source": [
    "### get rates of product"
   ]
  },
  {
   "cell_type": "code",
   "execution_count": 158,
   "id": "22f8dd54",
   "metadata": {},
   "outputs": [],
   "source": [
    "for product in products:\n",
    "    try:\n",
    "        rate=product.find_element(\"xpath\",\".//DIV[@class='rev']//div[@class='stars _s']\").text\n",
    "        product_rates.append(rate)\n",
    "    except NoSuchElementException:\n",
    "        rate = \"no rate\"  \n",
    "        product_rates.append(rate)\n",
    "\n"
   ]
  },
  {
   "cell_type": "code",
   "execution_count": 159,
   "id": "fdeaa1ff",
   "metadata": {},
   "outputs": [
    {
     "data": {
      "text/plain": [
       "['4.6 out of 5',\n",
       " '4.6 out of 5',\n",
       " '4.8 out of 5',\n",
       " '4.5 out of 5',\n",
       " '4.9 out of 5',\n",
       " '4.5 out of 5',\n",
       " '4.1 out of 5',\n",
       " '3.7 out of 5',\n",
       " '4.3 out of 5',\n",
       " '4.2 out of 5',\n",
       " '4 out of 5',\n",
       " '4.5 out of 5',\n",
       " '4.9 out of 5',\n",
       " '4.7 out of 5',\n",
       " '4.2 out of 5',\n",
       " '4.3 out of 5',\n",
       " '4.5 out of 5',\n",
       " '4.7 out of 5',\n",
       " '4.6 out of 5',\n",
       " 'no rate',\n",
       " '4.9 out of 5',\n",
       " '5 out of 5',\n",
       " '4.4 out of 5',\n",
       " '5 out of 5',\n",
       " '4.6 out of 5',\n",
       " '4.5 out of 5',\n",
       " '4.8 out of 5',\n",
       " '5 out of 5',\n",
       " '4.9 out of 5',\n",
       " '5 out of 5',\n",
       " '4.5 out of 5',\n",
       " '5 out of 5',\n",
       " '2 out of 5',\n",
       " '4.5 out of 5',\n",
       " '4.5 out of 5',\n",
       " '4.1 out of 5',\n",
       " '4.3 out of 5',\n",
       " '4.4 out of 5',\n",
       " '5 out of 5',\n",
       " '3.9 out of 5']"
      ]
     },
     "execution_count": 159,
     "metadata": {},
     "output_type": "execute_result"
    }
   ],
   "source": [
    "product_rates"
   ]
  },
  {
   "cell_type": "code",
   "execution_count": 160,
   "id": "7cad1d25",
   "metadata": {},
   "outputs": [
    {
     "data": {
      "text/plain": [
       "40"
      ]
     },
     "execution_count": 160,
     "metadata": {},
     "output_type": "execute_result"
    }
   ],
   "source": [
    "len(product_rates)"
   ]
  },
  {
   "cell_type": "markdown",
   "id": "9b12ecce",
   "metadata": {},
   "source": [
    "### get product's  image"
   ]
  },
  {
   "cell_type": "code",
   "execution_count": 161,
   "id": "0b1c01ec",
   "metadata": {},
   "outputs": [],
   "source": [
    "images=obj_jum.find_elements(\"xpath\",\"//div[@class='img-c']//img[@class='img']\")"
   ]
  },
  {
   "cell_type": "code",
   "execution_count": 162,
   "id": "6152192d",
   "metadata": {},
   "outputs": [
    {
     "name": "stdout",
     "output_type": "stream",
     "text": [
      "https://eg.jumia.is/unsafe/fit-in/300x300/filters:fill(white)/product/29/196625/1.jpg?4749\n",
      "https://eg.jumia.is/unsafe/fit-in/300x300/filters:fill(white)/product/09/196625/1.jpg?4577\n",
      "https://eg.jumia.is/unsafe/fit-in/300x300/filters:fill(white)/product/23/296625/1.jpg?4727\n",
      "https://eg.jumia.is/unsafe/fit-in/300x300/filters:fill(white)/product/24/296625/1.jpg?4744\n",
      "https://eg.jumia.is/unsafe/fit-in/300x300/filters:fill(white)/product/20/585515/1.jpg?8648\n",
      "https://eg.jumia.is/unsafe/fit-in/300x300/filters:fill(white)/product/84/136025/1.jpg?3062\n",
      "https://eg.jumia.is/unsafe/fit-in/300x300/filters:fill(white)/product/03/296625/1.jpg?4541\n",
      "https://eg.jumia.is/unsafe/fit-in/300x300/filters:fill(white)/product/52/861603/1.jpg?1024\n",
      "https://eg.jumia.is/unsafe/fit-in/300x300/filters:fill(white)/product/68/604803/1.jpg?1645\n",
      "https://eg.jumia.is/unsafe/fit-in/300x300/filters:fill(white)/product/87/874025/1.jpg?5090\n",
      "https://eg.jumia.is/unsafe/fit-in/300x300/filters:fill(white)/product/41/2393801/1.jpg?4755\n",
      "https://eg.jumia.is/unsafe/fit-in/300x300/filters:fill(white)/product/69/527114/1.jpg?5694\n",
      "https://eg.jumia.is/unsafe/fit-in/300x300/filters:fill(white)/product/72/296625/1.jpg?5130\n",
      "https://eg.jumia.is/unsafe/fit-in/300x300/filters:fill(white)/product/52/296625/1.jpg?4961\n",
      "https://eg.jumia.is/unsafe/fit-in/300x300/filters:fill(white)/product/55/594093/1.jpg?2744\n",
      "https://eg.jumia.is/unsafe/fit-in/300x300/filters:fill(white)/product/10/296625/1.jpg?4595\n",
      "https://eg.jumia.is/unsafe/fit-in/300x300/filters:fill(white)/product/14/332774/1.jpg?2330\n",
      "https://eg.jumia.is/unsafe/fit-in/300x300/filters:fill(white)/product/98/196625/1.jpg?5364\n",
      "https://eg.jumia.is/unsafe/fit-in/300x300/filters:fill(white)/product/80/296625/1.jpg?5182\n",
      "https://eg.jumia.is/unsafe/fit-in/300x300/filters:fill(white)/product/90/895769/1.jpg?5730\n",
      "https://eg.jumia.is/unsafe/fit-in/300x300/filters:fill(white)/product/74/136025/1.jpg?3048\n",
      "https://eg.jumia.is/unsafe/fit-in/300x300/filters:fill(white)/product/01/296625/1.jpg?4507\n",
      "https://eg.jumia.is/unsafe/fit-in/300x300/filters:fill(white)/product/20/296625/1.jpg?4673\n",
      "https://eg.jumia.is/unsafe/fit-in/300x300/filters:fill(white)/product/69/196625/1.jpg?5079\n",
      "https://eg.jumia.is/unsafe/fit-in/300x300/filters:fill(white)/product/21/805294/1.jpg?2578\n",
      "https://eg.jumia.is/unsafe/fit-in/300x300/filters:fill(white)/product/19/196625/1.jpg?4656\n",
      "https://eg.jumia.is/unsafe/fit-in/300x300/filters:fill(white)/product/74/7908201/1.jpg?2091\n",
      "https://eg.jumia.is/unsafe/fit-in/300x300/filters:fill(white)/product/68/8419301/1.jpg?8757\n",
      "https://eg.jumia.is/unsafe/fit-in/300x300/filters:fill(white)/product/91/296625/1.jpg?5310\n",
      "https://eg.jumia.is/unsafe/fit-in/300x300/filters:fill(white)/product/06/292993/1.jpg?1163\n",
      "https://eg.jumia.is/unsafe/fit-in/300x300/filters:fill(white)/product/60/296625/1.jpg?5011\n",
      "https://eg.jumia.is/unsafe/fit-in/300x300/filters:fill(white)/product/31/6424221/1.jpg?1045\n",
      "https://eg.jumia.is/unsafe/fit-in/300x300/filters:fill(white)/product/65/3576601/1.jpg?1765\n",
      "https://eg.jumia.is/unsafe/fit-in/300x300/filters:fill(white)/product/49/527114/1.jpg?5694\n",
      "https://eg.jumia.is/unsafe/fit-in/300x300/filters:fill(white)/product/17/0106301/1.jpg?1078\n",
      "https://eg.jumia.is/unsafe/fit-in/300x300/filters:fill(white)/product/05/950512/1.jpg?9952\n",
      "https://eg.jumia.is/unsafe/fit-in/300x300/filters:fill(white)/product/37/040544/1.jpg?6073\n",
      "https://eg.jumia.is/unsafe/fit-in/300x300/filters:fill(white)/product/84/410512/1.jpg?9858\n",
      "https://eg.jumia.is/unsafe/fit-in/300x300/filters:fill(white)/product/92/2517311/1.jpg?3185\n",
      "https://eg.jumia.is/unsafe/fit-in/300x300/filters:fill(white)/product/29/578425/1.jpg?6868\n",
      "https://eg.jumia.is/unsafe/fit-in/300x300/filters:fill(white)/product/51/033798/1.jpg?5230\n",
      "https://eg.jumia.is/unsafe/fit-in/300x300/filters:fill(white)/product/65/1893121/1.jpg?3865\n",
      "https://eg.jumia.is/unsafe/fit-in/300x300/filters:fill(white)/product/48/0326121/1.jpg?8584\n",
      "https://eg.jumia.is/unsafe/fit-in/300x300/filters:fill(white)/product/78/0326121/1.jpg?8584\n",
      "https://eg.jumia.is/unsafe/fit-in/300x300/filters:fill(white)/product/46/2746121/1.jpg?0864\n",
      "https://eg.jumia.is/unsafe/fit-in/300x300/filters:fill(white)/product/55/1893121/1.jpg?3865\n",
      "https://eg.jumia.is/unsafe/fit-in/300x300/filters:fill(white)/product/38/0326121/1.jpg?8584\n",
      "https://eg.jumia.is/unsafe/fit-in/300x300/filters:fill(white)/product/06/9708601/1.jpg?0626\n",
      "https://eg.jumia.is/unsafe/fit-in/300x300/filters:fill(white)/product/26/9708601/1.jpg?0626\n",
      "https://eg.jumia.is/unsafe/fit-in/300x300/filters:fill(white)/product/35/1893121/1.jpg?3865\n",
      "https://eg.jumia.is/unsafe/fit-in/300x300/filters:fill(white)/product/74/1893121/1.jpg?3745\n",
      "https://eg.jumia.is/unsafe/fit-in/300x300/filters:fill(white)/product/43/6383521/1.jpg?6227\n"
     ]
    }
   ],
   "source": [
    "for i in images:\n",
    "    print(i.get_attribute(\"data-src\"))"
   ]
  },
  {
   "cell_type": "code",
   "execution_count": 163,
   "id": "7a28f990",
   "metadata": {},
   "outputs": [],
   "source": [
    "for i in images:\n",
    "    product_images.append(i.get_attribute(\"data-src\"))\n"
   ]
  },
  {
   "cell_type": "code",
   "execution_count": 164,
   "id": "114ffe0e",
   "metadata": {},
   "outputs": [
    {
     "data": {
      "text/plain": [
       "40"
      ]
     },
     "execution_count": 164,
     "metadata": {},
     "output_type": "execute_result"
    }
   ],
   "source": [
    "len(product_images[:40])"
   ]
  },
  {
   "cell_type": "markdown",
   "id": "aa521705",
   "metadata": {},
   "source": [
    "### create the dataframe from products and its information "
   ]
  },
  {
   "cell_type": "code",
   "execution_count": 165,
   "id": "2d7a0da5",
   "metadata": {},
   "outputs": [
    {
     "data": {
      "text/html": [
       "<div>\n",
       "<style scoped>\n",
       "    .dataframe tbody tr th:only-of-type {\n",
       "        vertical-align: middle;\n",
       "    }\n",
       "\n",
       "    .dataframe tbody tr th {\n",
       "        vertical-align: top;\n",
       "    }\n",
       "\n",
       "    .dataframe thead th {\n",
       "        text-align: right;\n",
       "    }\n",
       "</style>\n",
       "<table border=\"1\" class=\"dataframe\">\n",
       "  <thead>\n",
       "    <tr style=\"text-align: right;\">\n",
       "      <th></th>\n",
       "      <th>Name</th>\n",
       "      <th>price</th>\n",
       "      <th>rate</th>\n",
       "      <th>image</th>\n",
       "    </tr>\n",
       "  </thead>\n",
       "  <tbody>\n",
       "    <tr>\n",
       "      <th>0</th>\n",
       "      <td>ADIDAS EAY85 Classic Foundation Backpack- Green</td>\n",
       "      <td>EGP 1,079.00</td>\n",
       "      <td>4.6 out of 5</td>\n",
       "      <td>https://eg.jumia.is/unsafe/fit-in/300x300/filt...</td>\n",
       "    </tr>\n",
       "    <tr>\n",
       "      <th>1</th>\n",
       "      <td>ADIDAS RF082 Motion Linear Backpack- Black</td>\n",
       "      <td>EGP 1,679.00</td>\n",
       "      <td>4.6 out of 5</td>\n",
       "      <td>https://eg.jumia.is/unsafe/fit-in/300x300/filt...</td>\n",
       "    </tr>\n",
       "    <tr>\n",
       "      <th>2</th>\n",
       "      <td>ADIDAS SF501 4Athlts Camper Backpack- Blue</td>\n",
       "      <td>EGP 2,159.00</td>\n",
       "      <td>4.8 out of 5</td>\n",
       "      <td>https://eg.jumia.is/unsafe/fit-in/300x300/filt...</td>\n",
       "    </tr>\n",
       "    <tr>\n",
       "      <th>3</th>\n",
       "      <td>ADIDAS CJ601 Training Backpack- Blue</td>\n",
       "      <td>EGP 1,275.00</td>\n",
       "      <td>4.5 out of 5</td>\n",
       "      <td>https://eg.jumia.is/unsafe/fit-in/300x300/filt...</td>\n",
       "    </tr>\n",
       "    <tr>\n",
       "      <th>4</th>\n",
       "      <td>Umbrella To Protect From The Sun And Rain</td>\n",
       "      <td>EGP 239.90</td>\n",
       "      <td>4.9 out of 5</td>\n",
       "      <td>https://eg.jumia.is/unsafe/fit-in/300x300/filt...</td>\n",
       "    </tr>\n",
       "    <tr>\n",
       "      <th>5</th>\n",
       "      <td>ADIDAS DSZ32 Junior Boys And Girls Brand Love ...</td>\n",
       "      <td>EGP 1,519.00</td>\n",
       "      <td>4.5 out of 5</td>\n",
       "      <td>https://eg.jumia.is/unsafe/fit-in/300x300/filt...</td>\n",
       "    </tr>\n",
       "    <tr>\n",
       "      <th>6</th>\n",
       "      <td>ADIDAS IKS76 Must Haves 2-In-1 Backpack- Black</td>\n",
       "      <td>EGP 3,799.00</td>\n",
       "      <td>4.1 out of 5</td>\n",
       "      <td>https://eg.jumia.is/unsafe/fit-in/300x300/filt...</td>\n",
       "    </tr>\n",
       "    <tr>\n",
       "      <th>7</th>\n",
       "      <td>Laptop Bag 15.6-Inch Laptop - Black</td>\n",
       "      <td>EGP 325.00</td>\n",
       "      <td>3.7 out of 5</td>\n",
       "      <td>https://eg.jumia.is/unsafe/fit-in/300x300/filt...</td>\n",
       "    </tr>\n",
       "    <tr>\n",
       "      <th>8</th>\n",
       "      <td>Transparent Umbrella High Quality</td>\n",
       "      <td>EGP 115.00</td>\n",
       "      <td>4.3 out of 5</td>\n",
       "      <td>https://eg.jumia.is/unsafe/fit-in/300x300/filt...</td>\n",
       "    </tr>\n",
       "    <tr>\n",
       "      <th>9</th>\n",
       "      <td>Big Umbrella Bombai 1pcs Black</td>\n",
       "      <td>EGP 194.00</td>\n",
       "      <td>4.2 out of 5</td>\n",
       "      <td>https://eg.jumia.is/unsafe/fit-in/300x300/filt...</td>\n",
       "    </tr>\n",
       "  </tbody>\n",
       "</table>\n",
       "</div>"
      ],
      "text/plain": [
       "                                                Name         price  \\\n",
       "0    ADIDAS EAY85 Classic Foundation Backpack- Green  EGP 1,079.00   \n",
       "1         ADIDAS RF082 Motion Linear Backpack- Black  EGP 1,679.00   \n",
       "2         ADIDAS SF501 4Athlts Camper Backpack- Blue  EGP 2,159.00   \n",
       "3               ADIDAS CJ601 Training Backpack- Blue  EGP 1,275.00   \n",
       "4          Umbrella To Protect From The Sun And Rain    EGP 239.90   \n",
       "5  ADIDAS DSZ32 Junior Boys And Girls Brand Love ...  EGP 1,519.00   \n",
       "6     ADIDAS IKS76 Must Haves 2-In-1 Backpack- Black  EGP 3,799.00   \n",
       "7                Laptop Bag 15.6-Inch Laptop - Black    EGP 325.00   \n",
       "8                  Transparent Umbrella High Quality    EGP 115.00   \n",
       "9                     Big Umbrella Bombai 1pcs Black    EGP 194.00   \n",
       "\n",
       "           rate                                              image  \n",
       "0  4.6 out of 5  https://eg.jumia.is/unsafe/fit-in/300x300/filt...  \n",
       "1  4.6 out of 5  https://eg.jumia.is/unsafe/fit-in/300x300/filt...  \n",
       "2  4.8 out of 5  https://eg.jumia.is/unsafe/fit-in/300x300/filt...  \n",
       "3  4.5 out of 5  https://eg.jumia.is/unsafe/fit-in/300x300/filt...  \n",
       "4  4.9 out of 5  https://eg.jumia.is/unsafe/fit-in/300x300/filt...  \n",
       "5  4.5 out of 5  https://eg.jumia.is/unsafe/fit-in/300x300/filt...  \n",
       "6  4.1 out of 5  https://eg.jumia.is/unsafe/fit-in/300x300/filt...  \n",
       "7  3.7 out of 5  https://eg.jumia.is/unsafe/fit-in/300x300/filt...  \n",
       "8  4.3 out of 5  https://eg.jumia.is/unsafe/fit-in/300x300/filt...  \n",
       "9  4.2 out of 5  https://eg.jumia.is/unsafe/fit-in/300x300/filt...  "
      ]
     },
     "execution_count": 165,
     "metadata": {},
     "output_type": "execute_result"
    }
   ],
   "source": [
    "df_jum = pd.DataFrame(zip(product_name_list,product_prices,product_rates,product_images[:40]), columns=['Name','price','rate','image'])\n",
    "df_jum.head(10)"
   ]
  },
  {
   "cell_type": "code",
   "execution_count": 166,
   "id": "cec3f4c6",
   "metadata": {},
   "outputs": [],
   "source": [
    "df_jum.to_csv('jumia_products.csv')"
   ]
  }
 ],
 "metadata": {
  "kernelspec": {
   "display_name": "Python 3 (ipykernel)",
   "language": "python",
   "name": "python3"
  },
  "language_info": {
   "codemirror_mode": {
    "name": "ipython",
    "version": 3
   },
   "file_extension": ".py",
   "mimetype": "text/x-python",
   "name": "python",
   "nbconvert_exporter": "python",
   "pygments_lexer": "ipython3",
   "version": "3.11.3"
  }
 },
 "nbformat": 4,
 "nbformat_minor": 5
}
